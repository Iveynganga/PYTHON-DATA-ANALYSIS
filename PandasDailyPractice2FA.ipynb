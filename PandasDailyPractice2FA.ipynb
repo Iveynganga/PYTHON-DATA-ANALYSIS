{
  "cells": [
    {
      "cell_type": "markdown",
      "metadata": {
        "id": "view-in-github",
        "colab_type": "text"
      },
      "source": [
        "<a href=\"https://colab.research.google.com/github/Iveynganga/PYTHON-DATA-ANALYSIS/blob/main/PandasDailyPractice2FA.ipynb\" target=\"_parent\"><img src=\"https://colab.research.google.com/assets/colab-badge.svg\" alt=\"Open In Colab\"/></a>"
      ]
    },
    {
      "cell_type": "markdown",
      "metadata": {
        "id": "_drW6niW_7zp"
      },
      "source": [
        "# Fictional Army - Filtering and Sorting"
      ]
    },
    {
      "cell_type": "markdown",
      "metadata": {
        "id": "A7DPFYyW_7zr"
      },
      "source": [
        "### Introduction:\n",
        "\n",
        "This exercise was inspired by this [page](http://chrisalbon.com/python/)\n",
        "\n",
        "Special thanks to: https://github.com/chrisalbon for sharing the dataset and materials.\n",
        "\n",
        "### Step 1. Import the necessary libraries"
      ]
    },
    {
      "cell_type": "code",
      "execution_count": null,
      "metadata": {
        "id": "QLTXS3st_7zs"
      },
      "outputs": [],
      "source": [
        "import pandas as pd"
      ]
    },
    {
      "cell_type": "markdown",
      "metadata": {
        "id": "hatLA9dL_7zt"
      },
      "source": [
        "### Step 2. This is the data given as a dictionary"
      ]
    },
    {
      "cell_type": "code",
      "execution_count": null,
      "metadata": {
        "collapsed": true,
        "id": "xtsxtcIS_7zt"
      },
      "outputs": [],
      "source": [
        "# Create an example dataframe about a fictional army\n",
        "raw_data = {'regiment': ['Nighthawks', 'Nighthawks', 'Nighthawks', 'Nighthawks', 'Dragoons', 'Dragoons', 'Dragoons', 'Dragoons', 'Scouts', 'Scouts', 'Scouts', 'Scouts'],\n",
        "            'company': ['1st', '1st', '2nd', '2nd', '1st', '1st', '2nd', '2nd','1st', '1st', '2nd', '2nd'],\n",
        "            'deaths': [523, 52, 25, 616, 43, 234, 523, 62, 62, 73, 37, 35],\n",
        "            'battles': [5, 42, 2, 2, 4, 7, 8, 3, 4, 7, 8, 9],\n",
        "            'size': [1045, 957, 1099, 1400, 1592, 1006, 987, 849, 973, 1005, 1099, 1523],\n",
        "            'veterans': [1, 5, 62, 26, 73, 37, 949, 48, 48, 435, 63, 345],\n",
        "            'readiness': [1, 2, 3, 3, 2, 1, 2, 3, 2, 1, 2, 3],\n",
        "            'armored': [1, 0, 1, 1, 0, 1, 0, 1, 0, 0, 1, 1],\n",
        "            'deserters': [4, 24, 31, 2, 3, 4, 24, 31, 2, 3, 2, 3],\n",
        "            'origin': ['Arizona', 'California', 'Texas', 'Florida', 'Maine', 'Iowa', 'Alaska', 'Washington', 'Oregon', 'Wyoming', 'Louisana', 'Georgia']}"
      ]
    },
    {
      "cell_type": "markdown",
      "metadata": {
        "id": "j5HnQJqi_7zt"
      },
      "source": [
        "### Step 3. Create a dataframe and assign it to a variable called army.\n",
        "\n",
        "#### Don't forget to include the columns names in the order presented in the dictionary ('regiment', 'company', 'deaths'...) so that the column index order is consistent with the solutions. If omitted, pandas will order the columns alphabetically."
      ]
    },
    {
      "cell_type": "code",
      "execution_count": 2,
      "metadata": {
        "id": "qdBjqNSh_7zt"
      },
      "outputs": [],
      "source": [
        "import pandas as pd\n",
        "\n",
        "raw_data = {'regiment': ['Nighthawks', 'Nighthawks', 'Nighthawks', 'Nighthawks', 'Dragoons', 'Dragoons', 'Dragoons', 'Dragoons', 'Scouts', 'Scouts', 'Scouts', 'Scouts'],\n",
        "            'company': ['1st', '1st', '2nd', '2nd', '1st', '1st', '2nd', '2nd','1st', '1st', '2nd', '2nd'],\n",
        "            'deaths': [523, 52, 25, 616, 43, 234, 523, 62, 62, 73, 37, 35],\n",
        "            'battles': [5, 42, 2, 2, 4, 7, 8, 3, 4, 7, 8, 9],\n",
        "            'size': [1045, 957, 1099, 1400, 1592, 1006, 987, 849, 973, 1005, 1099, 1523],\n",
        "            'veterans': [1, 5, 62, 26, 73, 37, 949, 48, 48, 435, 63, 345],\n",
        "            'readiness': [1, 2, 3, 3, 2, 1, 2, 3, 2, 1, 2, 3],\n",
        "            'armored': [1, 0, 1, 1, 0, 1, 0, 1, 0, 0, 1, 1],\n",
        "            'deserters': [4, 24, 31, 2, 3, 4, 24, 31, 2, 3, 2, 3],\n",
        "            'origin': ['Arizona', 'California', 'Texas', 'Florida', 'Maine', 'Iowa', 'Alaska', 'Washington', 'Oregon', 'Wyoming', 'Louisana', 'Georgia']}\n",
        "\n",
        "army = pd.DataFrame(raw_data)\n"
      ]
    },
    {
      "cell_type": "markdown",
      "metadata": {
        "id": "nTkubAEG_7zt"
      },
      "source": [
        "### Step 4. Set the 'origin' colum as the index of the dataframe"
      ]
    },
    {
      "cell_type": "code",
      "execution_count": 3,
      "metadata": {
        "id": "BAeBKM-__7zt"
      },
      "outputs": [],
      "source": [
        "import pandas as pd\n",
        "\n",
        "army = pd.DataFrame(raw_data)\n",
        "\n",
        "army.set_index('origin', inplace=True)\n"
      ]
    },
    {
      "cell_type": "markdown",
      "metadata": {
        "id": "FGKSETOc_7zu"
      },
      "source": [
        "### Step 5. Print only the column veterans"
      ]
    },
    {
      "cell_type": "code",
      "execution_count": 4,
      "metadata": {
        "id": "dcH88qLv_7zu"
      },
      "outputs": [],
      "source": [
        "import pandas as pd\n",
        "\n",
        "army = pd.DataFrame(raw_data)"
      ]
    },
    {
      "cell_type": "markdown",
      "metadata": {
        "id": "j2aSu2x__7zu"
      },
      "source": [
        "### Step 6. Print the columns 'veterans' and 'deaths'"
      ]
    },
    {
      "cell_type": "code",
      "execution_count": 5,
      "metadata": {
        "id": "Ak8yOjfE_7zu"
      },
      "outputs": [],
      "source": [
        "import pandas as pd\n",
        "\n",
        "army = pd.DataFrame(raw_data)"
      ]
    },
    {
      "cell_type": "markdown",
      "metadata": {
        "id": "mNm6-0Kz_7zu"
      },
      "source": [
        "### Step 7. Print the name of all the columns."
      ]
    },
    {
      "cell_type": "code",
      "execution_count": 6,
      "metadata": {
        "id": "6w3YnIld_7zu"
      },
      "outputs": [],
      "source": [
        "import pandas as pd\n",
        "\n",
        "army = pd.DataFrame(raw_data)"
      ]
    },
    {
      "cell_type": "markdown",
      "metadata": {
        "id": "4pGy4_7C_7zv"
      },
      "source": [
        "### Step 8. Select the 'deaths', 'size' and 'deserters' columns from Maine and Alaska"
      ]
    },
    {
      "cell_type": "code",
      "execution_count": 7,
      "metadata": {
        "id": "RM93Nxqq_7zv"
      },
      "outputs": [],
      "source": [
        "import pandas as pd\n",
        "\n",
        "army = pd.DataFrame(raw_data)\n",
        "\n",
        "army.set_index('origin', inplace=True)\n",
        "\n",
        "selected_data = army.loc[['Maine', 'Alaska'], ['deaths', 'size', 'deserters']]"
      ]
    },
    {
      "cell_type": "markdown",
      "metadata": {
        "id": "IUeKuIPQ_7zv"
      },
      "source": [
        "### Step 9. Select the rows 3 to 7 and the columns 3 to 6"
      ]
    },
    {
      "cell_type": "code",
      "execution_count": 8,
      "metadata": {
        "id": "u31fGAqn_7zv"
      },
      "outputs": [],
      "source": [
        "import pandas as pd\n",
        "\n",
        "army = pd.DataFrame(raw_data)\n",
        "\n",
        "selected_data = army.iloc[2:7, 2:6]"
      ]
    },
    {
      "cell_type": "markdown",
      "metadata": {
        "id": "2EetYr-I_7zv"
      },
      "source": [
        "### Step 10. Select every row after the fourth row and all columns"
      ]
    },
    {
      "cell_type": "code",
      "execution_count": 9,
      "metadata": {
        "id": "750_-dBv_7zv"
      },
      "outputs": [],
      "source": [
        "import pandas as pd\n",
        "\n",
        "army = pd.DataFrame(raw_data)\n",
        "\n",
        "selected_data = army.iloc[3:, :]"
      ]
    },
    {
      "cell_type": "markdown",
      "metadata": {
        "id": "XtRhO-l-_7zv"
      },
      "source": [
        "### Step 11. Select every row up to the 4th row and all columns"
      ]
    },
    {
      "cell_type": "code",
      "execution_count": 10,
      "metadata": {
        "id": "uvnMP2Xq_7zv"
      },
      "outputs": [],
      "source": [
        "import pandas as pd\n",
        "\n",
        "army = pd.DataFrame(raw_data)\n",
        "\n",
        "selected_data = army.iloc[:4, :]"
      ]
    },
    {
      "cell_type": "markdown",
      "metadata": {
        "id": "vJQCNUSy_7zv"
      },
      "source": [
        "### Step 12. Select the 3rd column up to the 7th column"
      ]
    },
    {
      "cell_type": "code",
      "execution_count": 11,
      "metadata": {
        "id": "DlBi4MAU_7zv"
      },
      "outputs": [],
      "source": [
        "import pandas as pd\n",
        "\n",
        "army = pd.DataFrame(raw_data)\n",
        "\n",
        "selected_data = army.iloc[:, 2:7]"
      ]
    },
    {
      "cell_type": "markdown",
      "metadata": {
        "id": "tAtgp7BK_7zw"
      },
      "source": [
        "### Step 13. Select rows where df.deaths is greater than 50"
      ]
    },
    {
      "cell_type": "code",
      "execution_count": 12,
      "metadata": {
        "id": "rFJ-1fIs_7zw"
      },
      "outputs": [],
      "source": [
        "import pandas as pd\n",
        "\n",
        "army = pd.DataFrame(raw_data)\n",
        "\n",
        "selected_rows = army[army['deaths'] > 50]"
      ]
    },
    {
      "cell_type": "markdown",
      "metadata": {
        "id": "brx-h_z6_7zw"
      },
      "source": [
        "### Step 14. Select rows where df.deaths is greater than 500 or less than 50"
      ]
    },
    {
      "cell_type": "code",
      "execution_count": null,
      "metadata": {
        "id": "5SJOcTdj_7zw"
      },
      "outputs": [],
      "source": [
        "import pandas as pd\n",
        "\n",
        "army = pd.DataFrame(raw_data)\n",
        "\n",
        "selected_rows = army[(army['deaths'] > 500) | (army['deaths'] < 50)]"
      ]
    },
    {
      "cell_type": "markdown",
      "metadata": {
        "id": "vF-3XApI_7zw"
      },
      "source": [
        "### Step 15. Select all the regiments not named \"Dragoons\""
      ]
    },
    {
      "cell_type": "code",
      "execution_count": 13,
      "metadata": {
        "id": "qPHkVzka_7zw"
      },
      "outputs": [],
      "source": [
        "import pandas as pd\n",
        "\n",
        "army = pd.DataFrame(raw_data)\n",
        "\n",
        "selected_rows = army[army['regiment'] != \"Dragoons\"]"
      ]
    },
    {
      "cell_type": "markdown",
      "metadata": {
        "id": "Ngk0VQRZ_7zw"
      },
      "source": [
        "### Step 16. Select the rows called Texas and Arizona"
      ]
    },
    {
      "cell_type": "code",
      "execution_count": 14,
      "metadata": {
        "id": "Ad6R_sHt_7zw"
      },
      "outputs": [],
      "source": [
        "import pandas as pd\n",
        "\n",
        "army = pd.DataFrame(raw_data)\n",
        "\n",
        "army.set_index('origin', inplace=True)\n",
        "\n",
        "selected_rows = army.loc[['Texas', 'Arizona']]"
      ]
    },
    {
      "cell_type": "markdown",
      "metadata": {
        "id": "r7hfH_dL_7zw"
      },
      "source": [
        "### Step 17. Select the third cell in the row named Arizona"
      ]
    },
    {
      "cell_type": "code",
      "execution_count": 15,
      "metadata": {
        "id": "vBd3zeFb_7zw"
      },
      "outputs": [],
      "source": [
        "import pandas as pd\n",
        "\n",
        "army = pd.DataFrame(raw_data)\n",
        "\n",
        "army.set_index('origin', inplace=True)\n",
        "\n",
        "third_cell = army.loc['Arizona'].iloc[2]"
      ]
    },
    {
      "cell_type": "markdown",
      "metadata": {
        "id": "DM9oX3ee_7zw"
      },
      "source": [
        "### Step 18. Select the third cell down in the column named deaths"
      ]
    },
    {
      "cell_type": "code",
      "execution_count": 16,
      "metadata": {
        "id": "Y7qyFAmI_7zx"
      },
      "outputs": [],
      "source": [
        "import pandas as pd\n",
        "\n",
        "army = pd.DataFrame(raw_data)\n",
        "\n",
        "third_cell = army['deaths'].iloc[2]\n"
      ]
    }
  ],
  "metadata": {
    "kernelspec": {
      "display_name": "Python 3",
      "language": "python",
      "name": "python3"
    },
    "language_info": {
      "codemirror_mode": {
        "name": "ipython",
        "version": 3
      },
      "file_extension": ".py",
      "mimetype": "text/x-python",
      "name": "python",
      "nbconvert_exporter": "python",
      "pygments_lexer": "ipython3",
      "version": "3.7.3"
    },
    "colab": {
      "provenance": [],
      "include_colab_link": true
    }
  },
  "nbformat": 4,
  "nbformat_minor": 0
}