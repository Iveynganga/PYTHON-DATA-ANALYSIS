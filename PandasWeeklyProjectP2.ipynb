{
  "cells": [
    {
      "cell_type": "markdown",
      "metadata": {
        "id": "view-in-github",
        "colab_type": "text"
      },
      "source": [
        "<a href=\"https://colab.research.google.com/github/Iveynganga/PYTHON-DATA-ANALYSIS/blob/main/PandasWeeklyProjectP2.ipynb\" target=\"_parent\"><img src=\"https://colab.research.google.com/assets/colab-badge.svg\" alt=\"Open In Colab\"/></a>"
      ]
    },
    {
      "cell_type": "markdown",
      "metadata": {
        "id": "fz5JxBlD5-E3"
      },
      "source": [
        "# Getting Financial Data - Google Finance"
      ]
    },
    {
      "cell_type": "markdown",
      "metadata": {
        "id": "TUtbQXgo5-E5"
      },
      "source": [
        "### Introduction:\n",
        "\n",
        "This time you will get data from a website.\n",
        "\n",
        "\n",
        "### Step 1. Import the necessary libraries"
      ]
    },
    {
      "cell_type": "code",
      "execution_count": 1,
      "metadata": {
        "id": "BvdC164_5-E5",
        "outputId": "0ab9b099-a0ad-491f-d84a-8f1fe39158d7",
        "colab": {
          "base_uri": "https://localhost:8080/"
        }
      },
      "outputs": [
        {
          "output_type": "stream",
          "name": "stdout",
          "text": [
            "Requirement already satisfied: yfinance in /usr/local/lib/python3.10/dist-packages (0.2.37)\n",
            "Requirement already satisfied: pandas>=1.3.0 in /usr/local/lib/python3.10/dist-packages (from yfinance) (2.0.3)\n",
            "Requirement already satisfied: numpy>=1.16.5 in /usr/local/lib/python3.10/dist-packages (from yfinance) (1.25.2)\n",
            "Requirement already satisfied: requests>=2.31 in /usr/local/lib/python3.10/dist-packages (from yfinance) (2.31.0)\n",
            "Requirement already satisfied: multitasking>=0.0.7 in /usr/local/lib/python3.10/dist-packages (from yfinance) (0.0.11)\n",
            "Requirement already satisfied: lxml>=4.9.1 in /usr/local/lib/python3.10/dist-packages (from yfinance) (4.9.4)\n",
            "Requirement already satisfied: appdirs>=1.4.4 in /usr/local/lib/python3.10/dist-packages (from yfinance) (1.4.4)\n",
            "Requirement already satisfied: pytz>=2022.5 in /usr/local/lib/python3.10/dist-packages (from yfinance) (2023.4)\n",
            "Requirement already satisfied: frozendict>=2.3.4 in /usr/local/lib/python3.10/dist-packages (from yfinance) (2.4.1)\n",
            "Requirement already satisfied: peewee>=3.16.2 in /usr/local/lib/python3.10/dist-packages (from yfinance) (3.17.1)\n",
            "Requirement already satisfied: beautifulsoup4>=4.11.1 in /usr/local/lib/python3.10/dist-packages (from yfinance) (4.12.3)\n",
            "Requirement already satisfied: html5lib>=1.1 in /usr/local/lib/python3.10/dist-packages (from yfinance) (1.1)\n",
            "Requirement already satisfied: soupsieve>1.2 in /usr/local/lib/python3.10/dist-packages (from beautifulsoup4>=4.11.1->yfinance) (2.5)\n",
            "Requirement already satisfied: six>=1.9 in /usr/local/lib/python3.10/dist-packages (from html5lib>=1.1->yfinance) (1.16.0)\n",
            "Requirement already satisfied: webencodings in /usr/local/lib/python3.10/dist-packages (from html5lib>=1.1->yfinance) (0.5.1)\n",
            "Requirement already satisfied: python-dateutil>=2.8.2 in /usr/local/lib/python3.10/dist-packages (from pandas>=1.3.0->yfinance) (2.8.2)\n",
            "Requirement already satisfied: tzdata>=2022.1 in /usr/local/lib/python3.10/dist-packages (from pandas>=1.3.0->yfinance) (2024.1)\n",
            "Requirement already satisfied: charset-normalizer<4,>=2 in /usr/local/lib/python3.10/dist-packages (from requests>=2.31->yfinance) (3.3.2)\n",
            "Requirement already satisfied: idna<4,>=2.5 in /usr/local/lib/python3.10/dist-packages (from requests>=2.31->yfinance) (3.6)\n",
            "Requirement already satisfied: urllib3<3,>=1.21.1 in /usr/local/lib/python3.10/dist-packages (from requests>=2.31->yfinance) (2.0.7)\n",
            "Requirement already satisfied: certifi>=2017.4.17 in /usr/local/lib/python3.10/dist-packages (from requests>=2.31->yfinance) (2024.2.2)\n"
          ]
        }
      ],
      "source": [
        "pip install yfinance"
      ]
    },
    {
      "cell_type": "code",
      "source": [
        "import yfinance as yf"
      ],
      "metadata": {
        "id": "E1Su-5P0dg03"
      },
      "execution_count": 2,
      "outputs": []
    },
    {
      "cell_type": "markdown",
      "metadata": {
        "id": "tcdOR96U5-E5"
      },
      "source": [
        "### Step 2. Create your time range (start and end variables). The start date should be 01/01/2015 and the end should today (whatever your today is)"
      ]
    },
    {
      "cell_type": "code",
      "execution_count": 15,
      "metadata": {
        "id": "58l4kV2X5-E6"
      },
      "outputs": [],
      "source": [
        "start_date = '2015-01-01'\n",
        "end_date = '2024-01-01'"
      ]
    },
    {
      "cell_type": "markdown",
      "metadata": {
        "id": "ACJILjDW5-E6"
      },
      "source": [
        "### Step 3. Select the Apple, Tesla, Twitter, IBM, LinkedIn stocks symbols and assign them to a variable called stocks"
      ]
    },
    {
      "cell_type": "code",
      "execution_count": 16,
      "metadata": {
        "id": "Eos7S2P15-E6"
      },
      "outputs": [],
      "source": [
        "import pandas as pd\n",
        "\n",
        "stocks = \"TSLA\""
      ]
    },
    {
      "cell_type": "markdown",
      "metadata": {
        "id": "WVKtzMll5-E6"
      },
      "source": [
        "### Step 4. Read the data from google, assign to df and print it"
      ]
    },
    {
      "cell_type": "code",
      "source": [
        "stocks = \"TSLA\"\n",
        "\n",
        "df = yf.download(stocks, start=start_date, end=end_date)\n",
        "\n",
        "print(df)\n"
      ],
      "metadata": {
        "id": "vMbKH5ym9ge7",
        "outputId": "e497cd56-cca1-449a-e170-4d22ea0e291b",
        "colab": {
          "base_uri": "https://localhost:8080/"
        }
      },
      "execution_count": 17,
      "outputs": [
        {
          "output_type": "stream",
          "name": "stderr",
          "text": [
            "\r[*********************100%%**********************]  1 of 1 completed"
          ]
        },
        {
          "output_type": "stream",
          "name": "stdout",
          "text": [
            "                  Open        High         Low       Close   Adj Close  \\\n",
            "Date                                                                     \n",
            "2015-01-02   14.858000   14.883333   14.217333   14.620667   14.620667   \n",
            "2015-01-05   14.303333   14.433333   13.810667   14.006000   14.006000   \n",
            "2015-01-06   14.004000   14.280000   13.614000   14.085333   14.085333   \n",
            "2015-01-07   14.223333   14.318667   13.985333   14.063333   14.063333   \n",
            "2015-01-08   14.187333   14.253333   14.000667   14.041333   14.041333   \n",
            "...                ...         ...         ...         ...         ...   \n",
            "2023-12-22  256.760010  258.220001  251.369995  252.539993  252.539993   \n",
            "2023-12-26  254.490005  257.970001  252.910004  256.609985  256.609985   \n",
            "2023-12-27  258.350006  263.339996  257.519989  261.440002  261.440002   \n",
            "2023-12-28  263.660004  265.130005  252.710007  253.179993  253.179993   \n",
            "2023-12-29  255.100006  255.190002  247.429993  248.479996  248.479996   \n",
            "\n",
            "               Volume  \n",
            "Date                   \n",
            "2015-01-02   71466000  \n",
            "2015-01-05   80527500  \n",
            "2015-01-06   93928500  \n",
            "2015-01-07   44526000  \n",
            "2015-01-08   51637500  \n",
            "...               ...  \n",
            "2023-12-22   93249800  \n",
            "2023-12-26   86892400  \n",
            "2023-12-27  106494400  \n",
            "2023-12-28  113619900  \n",
            "2023-12-29  100615300  \n",
            "\n",
            "[2264 rows x 6 columns]\n"
          ]
        },
        {
          "output_type": "stream",
          "name": "stderr",
          "text": [
            "\n"
          ]
        }
      ]
    },
    {
      "cell_type": "markdown",
      "metadata": {
        "id": "OzNISn6c5-E6"
      },
      "source": [
        "### Step 5.  What is the type of structure of df ?"
      ]
    },
    {
      "cell_type": "code",
      "execution_count": 18,
      "metadata": {
        "id": "8eNiowPk5-E6",
        "outputId": "b4dc8c5f-9ec9-4f1d-d97c-b532632404b2",
        "colab": {
          "base_uri": "https://localhost:8080/"
        }
      },
      "outputs": [
        {
          "output_type": "stream",
          "name": "stdout",
          "text": [
            "Type of structure of df: <class 'pandas.core.frame.DataFrame'>\n"
          ]
        }
      ],
      "source": [
        "structure_type = type(df)\n",
        "\n",
        "print(\"Type of structure of df:\", structure_type)"
      ]
    },
    {
      "cell_type": "markdown",
      "source": [
        "The type of structure of the DataFrame df is a pandas DataFrame."
      ],
      "metadata": {
        "id": "_gBtx-3l961Y"
      }
    },
    {
      "cell_type": "markdown",
      "metadata": {
        "id": "YSRhDsWN5-E6"
      },
      "source": [
        "### Step 6. Print all the Items axis values\n",
        "#### To learn more about the Panel structure go to [documentation](http://pandas.pydata.org/pandas-docs/stable/dsintro.html#panel)"
      ]
    },
    {
      "cell_type": "code",
      "source": [
        "items_axis_values = df.index\n",
        "\n",
        "print(items_axis_values)"
      ],
      "metadata": {
        "id": "xctTEvyI_ezQ",
        "outputId": "b7905ee3-f8d7-4712-d0b6-92615ab18116",
        "colab": {
          "base_uri": "https://localhost:8080/"
        }
      },
      "execution_count": 19,
      "outputs": [
        {
          "output_type": "stream",
          "name": "stdout",
          "text": [
            "DatetimeIndex(['2015-01-02', '2015-01-05', '2015-01-06', '2015-01-07',\n",
            "               '2015-01-08', '2015-01-09', '2015-01-12', '2015-01-13',\n",
            "               '2015-01-14', '2015-01-15',\n",
            "               ...\n",
            "               '2023-12-15', '2023-12-18', '2023-12-19', '2023-12-20',\n",
            "               '2023-12-21', '2023-12-22', '2023-12-26', '2023-12-27',\n",
            "               '2023-12-28', '2023-12-29'],\n",
            "              dtype='datetime64[ns]', name='Date', length=2264, freq=None)\n"
          ]
        }
      ]
    },
    {
      "cell_type": "markdown",
      "metadata": {
        "id": "vYDD8EsJ5-E6"
      },
      "source": [
        "### Step 7. Good, now we know  the data avaiable. Create a dataFrame called vol, with the Volume values."
      ]
    },
    {
      "cell_type": "code",
      "execution_count": 20,
      "metadata": {
        "id": "a4imJ0Vg5-E7"
      },
      "outputs": [],
      "source": [
        "vol = df['Volume']"
      ]
    },
    {
      "cell_type": "markdown",
      "metadata": {
        "id": "TMxei2nl5-E7"
      },
      "source": [
        "### Step 8. Aggregate the data of Volume to weekly\n",
        "#### Hint: Be careful to not sum data from the same week of 2015 and other years."
      ]
    },
    {
      "cell_type": "code",
      "source": [
        "weekly_volume = df['Volume'].resample('W').sum()\n",
        "\n",
        "print(weekly_volume)"
      ],
      "metadata": {
        "id": "fGC1Nruk-nQ4",
        "outputId": "e090dbfc-9d09-4e6a-a6a8-8161d094861a",
        "colab": {
          "base_uri": "https://localhost:8080/"
        }
      },
      "execution_count": 21,
      "outputs": [
        {
          "output_type": "stream",
          "name": "stdout",
          "text": [
            "Date\n",
            "2015-01-04     71466000\n",
            "2015-01-11    340644000\n",
            "2015-01-18    461988000\n",
            "2015-01-25    243175500\n",
            "2015-02-01    235803000\n",
            "                ...    \n",
            "2023-12-03    649509700\n",
            "2023-12-10    578629500\n",
            "2023-12-17    636078500\n",
            "2023-12-24    551094900\n",
            "2023-12-31    407622000\n",
            "Freq: W-SUN, Name: Volume, Length: 470, dtype: int64\n"
          ]
        }
      ]
    },
    {
      "cell_type": "markdown",
      "metadata": {
        "id": "FbxmoByN5-E7"
      },
      "source": [
        "### Step 9. Find all the volume traded in the year of 2015"
      ]
    },
    {
      "cell_type": "code",
      "source": [
        "volume_2015 = vol['2015']\n",
        "\n",
        "total_volume_2015 = volume_2015.sum()"
      ],
      "metadata": {
        "id": "fIwYulho_zBm"
      },
      "execution_count": 22,
      "outputs": []
    },
    {
      "cell_type": "markdown",
      "metadata": {
        "id": "aziOsdR-5-E8"
      },
      "source": [
        "### BONUS: Create your own question and answer it."
      ]
    },
    {
      "cell_type": "code",
      "execution_count": null,
      "metadata": {
        "collapsed": true,
        "id": "kFFdNwv_5-E8"
      },
      "outputs": [],
      "source": []
    },
    {
      "cell_type": "markdown",
      "source": [
        "How can we calculate the average closing price of Tesla stock for each month in the year 2018?"
      ],
      "metadata": {
        "id": "urgndJNZAK1F"
      }
    },
    {
      "cell_type": "code",
      "source": [
        "df.index = pd.to_datetime(df.index)\n",
        "\n",
        "tesla_2018 = df.loc['2018']\n",
        "\n",
        "monthly_avg_closing_price = tesla_2018['Close'].resample('M').mean()\n",
        "\n",
        "print(monthly_avg_closing_price)"
      ],
      "metadata": {
        "id": "DsSKdflfAM2X",
        "outputId": "42b10ff1-1e46-4a11-d9a9-a3f747958e7c",
        "colab": {
          "base_uri": "https://localhost:8080/"
        }
      },
      "execution_count": 24,
      "outputs": [
        {
          "output_type": "stream",
          "name": "stdout",
          "text": [
            "Date\n",
            "2018-01-31    22.572222\n",
            "2018-02-28    22.385158\n",
            "2018-03-31    21.065555\n",
            "2018-04-30    19.318190\n",
            "2018-05-31    19.323485\n",
            "2018-06-30    22.373365\n",
            "2018-07-31    20.798317\n",
            "2018-08-31    22.080957\n",
            "2018-09-30    19.343193\n",
            "2018-10-31    18.999536\n",
            "2018-11-30    22.966349\n",
            "2018-12-31    22.940631\n",
            "Freq: M, Name: Close, dtype: float64\n"
          ]
        }
      ]
    }
  ],
  "metadata": {
    "kernelspec": {
      "display_name": "Python 2",
      "language": "python",
      "name": "python2"
    },
    "language_info": {
      "codemirror_mode": {
        "name": "ipython",
        "version": 2
      },
      "file_extension": ".py",
      "mimetype": "text/x-python",
      "name": "python",
      "nbconvert_exporter": "python",
      "pygments_lexer": "ipython2",
      "version": "2.7.11"
    },
    "colab": {
      "provenance": [],
      "include_colab_link": true
    }
  },
  "nbformat": 4,
  "nbformat_minor": 0
}