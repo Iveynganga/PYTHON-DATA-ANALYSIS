{
  "cells": [
    {
      "cell_type": "markdown",
      "metadata": {
        "id": "view-in-github",
        "colab_type": "text"
      },
      "source": [
        "<a href=\"https://colab.research.google.com/github/Iveynganga/PYTHON-DATA-ANALYSIS/blob/main/PandasWeeklyProjectP2.ipynb\" target=\"_parent\"><img src=\"https://colab.research.google.com/assets/colab-badge.svg\" alt=\"Open In Colab\"/></a>"
      ]
    },
    {
      "cell_type": "markdown",
      "metadata": {
        "id": "fz5JxBlD5-E3"
      },
      "source": [
        "# Getting Financial Data - Google Finance"
      ]
    },
    {
      "cell_type": "markdown",
      "metadata": {
        "id": "TUtbQXgo5-E5"
      },
      "source": [
        "### Introduction:\n",
        "\n",
        "This time you will get data from a website.\n",
        "\n",
        "\n",
        "### Step 1. Import the necessary libraries"
      ]
    },
    {
      "cell_type": "code",
      "execution_count": null,
      "metadata": {
        "id": "BvdC164_5-E5"
      },
      "outputs": [],
      "source": [
        "import pandas as pd"
      ]
    },
    {
      "cell_type": "markdown",
      "metadata": {
        "id": "tcdOR96U5-E5"
      },
      "source": [
        "### Step 2. Create your time range (start and end variables). The start date should be 01/01/2015 and the end should today (whatever your today is)"
      ]
    },
    {
      "cell_type": "code",
      "execution_count": 1,
      "metadata": {
        "id": "58l4kV2X5-E6"
      },
      "outputs": [],
      "source": [
        "from datetime import datetime, date\n",
        "\n",
        "start = datetime(2015, 1, 1)\n",
        "\n",
        "end = date.today()\n"
      ]
    },
    {
      "cell_type": "markdown",
      "metadata": {
        "id": "ACJILjDW5-E6"
      },
      "source": [
        "### Step 3. Select the Apple, Tesla, Twitter, IBM, LinkedIn stocks symbols and assign them to a variable called stocks"
      ]
    },
    {
      "cell_type": "code",
      "execution_count": 3,
      "metadata": {
        "id": "Eos7S2P15-E6"
      },
      "outputs": [],
      "source": [
        "import pandas as pd\n",
        "\n",
        "stock_data = pd.DataFrame({\n",
        "    'Symbol': ['AAPL', 'TSLA', 'TWTR', 'IBM', 'LNKD', 'GOOGL'],\n",
        "    'Price': [123.45, 678.90, 45.67, 105.32, 200.50, 1500.00],\n",
        "    'Volume': [1000000, 500000, 200000, 300000, 150000, 800000],\n",
        "\n",
        "})\n",
        "\n",
        "desired_symbols = ['AAPL', 'TSLA', 'TWTR', 'IBM', 'LNKD']\n",
        "\n",
        "stocks = stock_data[stock_data['Symbol'].isin(desired_symbols)]"
      ]
    },
    {
      "cell_type": "markdown",
      "metadata": {
        "id": "WVKtzMll5-E6"
      },
      "source": [
        "### Step 4. Read the data from google, assign to df and print it"
      ]
    },
    {
      "cell_type": "code",
      "source": [
        "import pandas as pd\n",
        "\n",
        "# URL for the Google Sheet data\n",
        "url = 'https://docs.google.com/spreadsheets/d/your_google_sheet_id/export?format=csv'\n",
        "\n",
        "# Read the data from Google Sheet and assign it to df\n",
        "df = pd.read_csv(url)"
      ],
      "metadata": {
        "id": "vMbKH5ym9ge7"
      },
      "execution_count": null,
      "outputs": []
    },
    {
      "cell_type": "markdown",
      "metadata": {
        "id": "OzNISn6c5-E6"
      },
      "source": [
        "### Step 5.  What is the type of structure of df ?"
      ]
    },
    {
      "cell_type": "code",
      "execution_count": null,
      "metadata": {
        "id": "8eNiowPk5-E6"
      },
      "outputs": [],
      "source": [
        "print(type(df))"
      ]
    },
    {
      "cell_type": "markdown",
      "source": [
        "The type of structure of the DataFrame df is a pandas DataFrame."
      ],
      "metadata": {
        "id": "_gBtx-3l961Y"
      }
    },
    {
      "cell_type": "markdown",
      "metadata": {
        "id": "YSRhDsWN5-E6"
      },
      "source": [
        "### Step 6. Print all the Items axis values\n",
        "#### To learn more about the Panel structure go to [documentation](http://pandas.pydata.org/pandas-docs/stable/dsintro.html#panel)"
      ]
    },
    {
      "cell_type": "code",
      "source": [
        "print(df.columns)"
      ],
      "metadata": {
        "id": "xctTEvyI_ezQ"
      },
      "execution_count": null,
      "outputs": []
    },
    {
      "cell_type": "markdown",
      "metadata": {
        "id": "vYDD8EsJ5-E6"
      },
      "source": [
        "### Step 7. Good, now we know  the data avaiable. Create a dataFrame called vol, with the Volume values."
      ]
    },
    {
      "cell_type": "code",
      "execution_count": null,
      "metadata": {
        "id": "a4imJ0Vg5-E7"
      },
      "outputs": [],
      "source": [
        "vol = df['Volume']"
      ]
    },
    {
      "cell_type": "markdown",
      "metadata": {
        "id": "TMxei2nl5-E7"
      },
      "source": [
        "### Step 8. Aggregate the data of Volume to weekly\n",
        "#### Hint: Be careful to not sum data from the same week of 2015 and other years."
      ]
    },
    {
      "cell_type": "code",
      "source": [
        "weekly_vol = vol.resample('W').sum()"
      ],
      "metadata": {
        "id": "fGC1Nruk-nQ4"
      },
      "execution_count": null,
      "outputs": []
    },
    {
      "cell_type": "markdown",
      "metadata": {
        "id": "FbxmoByN5-E7"
      },
      "source": [
        "### Step 9. Find all the volume traded in the year of 2015"
      ]
    },
    {
      "cell_type": "code",
      "source": [
        "volume_2015 = vol['2015']\n",
        "\n",
        "total_volume_2015 = volume_2015.sum()"
      ],
      "metadata": {
        "id": "fIwYulho_zBm"
      },
      "execution_count": null,
      "outputs": []
    },
    {
      "cell_type": "markdown",
      "metadata": {
        "id": "aziOsdR-5-E8"
      },
      "source": [
        "### BONUS: Create your own question and answer it."
      ]
    },
    {
      "cell_type": "code",
      "execution_count": null,
      "metadata": {
        "collapsed": true,
        "id": "kFFdNwv_5-E8"
      },
      "outputs": [],
      "source": []
    },
    {
      "cell_type": "markdown",
      "source": [
        "How can we calculate the average closing price of Apple stock for each month in the year 2018?"
      ],
      "metadata": {
        "id": "urgndJNZAK1F"
      }
    },
    {
      "cell_type": "code",
      "source": [
        "apple_2018 = apple['2018']\n",
        "\n",
        "monthly_average_closing_price = apple_2018['Adj Close'].resample('M').mean()"
      ],
      "metadata": {
        "id": "DsSKdflfAM2X"
      },
      "execution_count": null,
      "outputs": []
    }
  ],
  "metadata": {
    "kernelspec": {
      "display_name": "Python 2",
      "language": "python",
      "name": "python2"
    },
    "language_info": {
      "codemirror_mode": {
        "name": "ipython",
        "version": 2
      },
      "file_extension": ".py",
      "mimetype": "text/x-python",
      "name": "python",
      "nbconvert_exporter": "python",
      "pygments_lexer": "ipython2",
      "version": "2.7.11"
    },
    "colab": {
      "provenance": [],
      "include_colab_link": true
    }
  },
  "nbformat": 4,
  "nbformat_minor": 0
}