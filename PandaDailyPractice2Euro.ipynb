{
  "cells": [
    {
      "cell_type": "markdown",
      "metadata": {
        "id": "view-in-github",
        "colab_type": "text"
      },
      "source": [
        "<a href=\"https://colab.research.google.com/github/Iveynganga/PYTHON-DATA-ANALYSIS/blob/main/PandaDailyPractice2Euro.ipynb\" target=\"_parent\"><img src=\"https://colab.research.google.com/assets/colab-badge.svg\" alt=\"Open In Colab\"/></a>"
      ]
    },
    {
      "cell_type": "markdown",
      "metadata": {
        "id": "AZFu2Us6bjd7"
      },
      "source": [
        "# Ex2 - Filtering and Sorting Data"
      ]
    },
    {
      "cell_type": "markdown",
      "metadata": {
        "id": "QZDxwe58bjeA"
      },
      "source": [
        "This time we are going to pull data directly from the internet.\n",
        "\n",
        "### Step 1. Import the necessary libraries"
      ]
    },
    {
      "cell_type": "code",
      "execution_count": null,
      "metadata": {
        "id": "mbMPfxYQbjeB"
      },
      "outputs": [],
      "source": [
        "import pandas a s pd"
      ]
    },
    {
      "cell_type": "markdown",
      "metadata": {
        "id": "NEr8UKNxbjeC"
      },
      "source": [
        "### Step 2. Import the dataset from this [address](https://raw.githubusercontent.com/guipsamora/pandas_exercises/master/02_Filtering_%26_Sorting/Euro12/Euro_2012_stats_TEAM.csv)."
      ]
    },
    {
      "cell_type": "code",
      "source": [
        "import pandas as pd\n",
        "\n",
        "url = \"https://raw.githubusercontent.com/guipsamora/pandas_exercises/master/02_Filtering_%26_Sorting/Euro12/Euro_2012_stats_TEAM.csv\"\n",
        "\n",
        "euro_data = pd.read_csv(url)\n"
      ],
      "metadata": {
        "id": "seA3-bVDbsq8"
      },
      "execution_count": 1,
      "outputs": []
    },
    {
      "cell_type": "markdown",
      "metadata": {
        "id": "ejjsP6oHbjeC"
      },
      "source": [
        "### Step 3. Assign it to a variable called euro12."
      ]
    },
    {
      "cell_type": "code",
      "execution_count": 2,
      "metadata": {
        "id": "awq1FqNEbjeD"
      },
      "outputs": [],
      "source": [
        "import pandas as pd\n",
        "\n",
        "url = \"https://raw.githubusercontent.com/guipsamora/pandas_exercises/master/02_Filtering_%26_Sorting/Euro12/Euro_2012_stats_TEAM.csv\"\n",
        "\n",
        "euro12 = pd.read_csv(url)"
      ]
    },
    {
      "cell_type": "markdown",
      "metadata": {
        "id": "rqnDuVjZbjeD"
      },
      "source": [
        "### Step 4. Select only the Goal column."
      ]
    },
    {
      "cell_type": "code",
      "execution_count": null,
      "metadata": {
        "id": "Kt0woEGgbjeD"
      },
      "outputs": [],
      "source": [
        "goal_column = euro12['Goals']\n",
        "\n",
        "goal_column = euro12.loc[:, 'Goals']"
      ]
    },
    {
      "cell_type": "markdown",
      "metadata": {
        "id": "GcGPeJ9SbjeE"
      },
      "source": [
        "### Step 5. How many team participated in the Euro2012?"
      ]
    },
    {
      "cell_type": "code",
      "execution_count": 3,
      "metadata": {
        "id": "pVXcdcP7bjeE"
      },
      "outputs": [],
      "source": [
        "num_teams = euro12['Team'].nunique()\n"
      ]
    },
    {
      "cell_type": "markdown",
      "metadata": {
        "id": "BA1Pr0ixbjeE"
      },
      "source": [
        "### Step 6. What is the number of columns in the dataset?"
      ]
    },
    {
      "cell_type": "code",
      "execution_count": 4,
      "metadata": {
        "id": "Jsjs_XJ5bjeE"
      },
      "outputs": [],
      "source": [
        "num_columns = euro12.shape[1]"
      ]
    },
    {
      "cell_type": "markdown",
      "metadata": {
        "id": "eD0YWcX9bjeE"
      },
      "source": [
        "### Step 7. View only the columns Team, Yellow Cards and Red Cards and assign them to a dataframe called discipline"
      ]
    },
    {
      "cell_type": "code",
      "execution_count": 5,
      "metadata": {
        "id": "YIFm5w-PbjeF"
      },
      "outputs": [],
      "source": [
        "discipline = euro12[['Team', 'Yellow Cards', 'Red Cards']]\n"
      ]
    },
    {
      "cell_type": "markdown",
      "metadata": {
        "id": "HJNvZcrWbjeF"
      },
      "source": [
        "### Step 8. Sort the teams by Red Cards, then to Yellow Cards"
      ]
    },
    {
      "cell_type": "code",
      "execution_count": 6,
      "metadata": {
        "scrolled": true,
        "id": "wTmVoXlZbjeF"
      },
      "outputs": [],
      "source": [
        "sorted_discipline = discipline.sort_values(by=['Red Cards', 'Yellow Cards'], ascending=False)"
      ]
    },
    {
      "cell_type": "markdown",
      "metadata": {
        "id": "Wde9qkttbjeF"
      },
      "source": [
        "### Step 9. Calculate the mean Yellow Cards given per Team"
      ]
    },
    {
      "cell_type": "code",
      "execution_count": 7,
      "metadata": {
        "id": "fpQ3kr8fbjeF"
      },
      "outputs": [],
      "source": [
        "mean_yellow_cards = discipline['Yellow Cards'].mean()"
      ]
    },
    {
      "cell_type": "markdown",
      "metadata": {
        "id": "W3gLG-7kbjeF"
      },
      "source": [
        "### Step 10. Filter teams that scored more than 6 goals"
      ]
    },
    {
      "cell_type": "code",
      "execution_count": 8,
      "metadata": {
        "id": "v-f8K21cbjeF"
      },
      "outputs": [],
      "source": [
        "teams_more_than_6_goals = euro12[euro12['Goals'] > 6]"
      ]
    },
    {
      "cell_type": "markdown",
      "metadata": {
        "id": "wZXDG4_MbjeG"
      },
      "source": [
        "### Step 11. Select the teams that start with G"
      ]
    },
    {
      "cell_type": "code",
      "execution_count": 9,
      "metadata": {
        "id": "VuaWelYBbjeG"
      },
      "outputs": [],
      "source": [
        "teams_starting_with_G = euro12[euro12['Team'].str.startswith('G')]\n"
      ]
    },
    {
      "cell_type": "markdown",
      "metadata": {
        "id": "EBtMNKMFbjeG"
      },
      "source": [
        "### Step 12. Select the first 7 columns"
      ]
    },
    {
      "cell_type": "code",
      "execution_count": 10,
      "metadata": {
        "id": "Ddw0ITPcbjeG"
      },
      "outputs": [],
      "source": [
        "first_7_columns = euro12.iloc[:, :7]"
      ]
    },
    {
      "cell_type": "markdown",
      "metadata": {
        "id": "TwGu2w6LbjeG"
      },
      "source": [
        "### Step 13. Select all columns except the last 3."
      ]
    },
    {
      "cell_type": "code",
      "execution_count": 11,
      "metadata": {
        "id": "uomlJ7qybjeG"
      },
      "outputs": [],
      "source": [
        "all_except_last_3_columns = euro12.iloc[:, :-3]\n"
      ]
    },
    {
      "cell_type": "markdown",
      "metadata": {
        "id": "kRCNASjJbjeG"
      },
      "source": [
        "### Step 14. Present only the Shooting Accuracy from England, Italy and Russia"
      ]
    },
    {
      "cell_type": "code",
      "execution_count": 12,
      "metadata": {
        "id": "8gORdts7bjeG"
      },
      "outputs": [],
      "source": [
        "selected_teams = euro12[euro12['Team'].isin(['England', 'Italy', 'Russia'])]\n",
        "\n",
        "shooting_accuracy_selected_teams = selected_teams[['Team', 'Shooting Accuracy']]"
      ]
    }
  ],
  "metadata": {
    "anaconda-cloud": {},
    "kernelspec": {
      "display_name": "Python [default]",
      "language": "python",
      "name": "python2"
    },
    "language_info": {
      "codemirror_mode": {
        "name": "ipython",
        "version": 2
      },
      "file_extension": ".py",
      "mimetype": "text/x-python",
      "name": "python",
      "nbconvert_exporter": "python",
      "pygments_lexer": "ipython2",
      "version": "2.7.12"
    },
    "colab": {
      "provenance": [],
      "include_colab_link": true
    }
  },
  "nbformat": 4,
  "nbformat_minor": 0
}