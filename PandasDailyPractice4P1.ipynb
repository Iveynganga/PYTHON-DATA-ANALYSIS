{
  "cells": [
    {
      "cell_type": "markdown",
      "metadata": {
        "id": "view-in-github",
        "colab_type": "text"
      },
      "source": [
        "<a href=\"https://colab.research.google.com/github/Iveynganga/PYTHON-DATA-ANALYSIS/blob/main/PandasDailyPractice4P1.ipynb\" target=\"_parent\"><img src=\"https://colab.research.google.com/assets/colab-badge.svg\" alt=\"Open In Colab\"/></a>"
      ]
    },
    {
      "cell_type": "markdown",
      "metadata": {
        "id": "FfU1eqB3x_RS"
      },
      "source": [
        "# Ex2 - Getting and Knowing your Data"
      ]
    },
    {
      "cell_type": "markdown",
      "metadata": {
        "id": "aLbgipeRx_RU"
      },
      "source": [
        "This time we are going to pull data directly from the internet.\n",
        "Special thanks to: https://github.com/justmarkham for sharing the dataset and materials.\n",
        "\n",
        "### Step 1. Import the necessary libraries"
      ]
    },
    {
      "cell_type": "code",
      "execution_count": null,
      "metadata": {
        "id": "YFn9A-1Dx_RV"
      },
      "outputs": [],
      "source": [
        "import pandas as pd"
      ]
    },
    {
      "cell_type": "markdown",
      "metadata": {
        "id": "RQKvWz8Dx_RW"
      },
      "source": [
        "### Step 2. Import the dataset from this [address](https://raw.githubusercontent.com/justmarkham/DAT8/master/data/chipotle.tsv)."
      ]
    },
    {
      "cell_type": "code",
      "source": [
        "import pandas as pd\n",
        "\n",
        "url = \"https://raw.githubusercontent.com/justmarkham/DAT8/master/data/chipotle.tsv\"\n",
        "\n",
        "chipotle_data = pd.read_csv(url, sep='\\t')"
      ],
      "metadata": {
        "id": "j_62V5eTyEYb"
      },
      "execution_count": 1,
      "outputs": []
    },
    {
      "cell_type": "markdown",
      "metadata": {
        "id": "nGnSHw91x_RW"
      },
      "source": [
        "### Step 3. Assign it to a variable called chipo."
      ]
    },
    {
      "cell_type": "code",
      "execution_count": 2,
      "metadata": {
        "id": "cNqGcu4fx_RW"
      },
      "outputs": [],
      "source": [
        "import pandas as pd\n",
        "\n",
        "url = \"https://raw.githubusercontent.com/justmarkham/DAT8/master/data/chipotle.tsv\"\n",
        "\n",
        "chipo = pd.read_csv(url, sep='\\t')"
      ]
    },
    {
      "cell_type": "markdown",
      "metadata": {
        "id": "iBFz3ncbx_RW"
      },
      "source": [
        "### Step 4. See the first 10 entries"
      ]
    },
    {
      "cell_type": "code",
      "execution_count": null,
      "metadata": {
        "scrolled": false,
        "id": "MFX0V5Yrx_RW"
      },
      "outputs": [],
      "source": [
        "print(chipo.head(10))"
      ]
    },
    {
      "cell_type": "markdown",
      "metadata": {
        "id": "DtLMuXcvx_RW"
      },
      "source": [
        "### Step 5. What is the number of observations in the dataset?"
      ]
    },
    {
      "cell_type": "code",
      "execution_count": null,
      "metadata": {
        "id": "EhyIfdn_x_RW"
      },
      "outputs": [],
      "source": [
        "# Solution 1\n",
        "num_observations = chipo.shape[0]\n"
      ]
    },
    {
      "cell_type": "code",
      "execution_count": 3,
      "metadata": {
        "id": "7qFZPZj_x_RX"
      },
      "outputs": [],
      "source": [
        "# Solution 2\n",
        "\n",
        "num_observations = len(chipo)"
      ]
    },
    {
      "cell_type": "markdown",
      "metadata": {
        "id": "WnixPCIvx_RX"
      },
      "source": [
        "### Step 6. What is the number of columns in the dataset?"
      ]
    },
    {
      "cell_type": "code",
      "execution_count": 4,
      "metadata": {
        "id": "bUvV4iCsx_RX"
      },
      "outputs": [],
      "source": [
        "num_columns = chipo.shape[1]"
      ]
    },
    {
      "cell_type": "markdown",
      "metadata": {
        "id": "QssP5w-Dx_RX"
      },
      "source": [
        "### Step 7. Print the name of all the columns."
      ]
    },
    {
      "cell_type": "code",
      "execution_count": null,
      "metadata": {
        "id": "mNJ5ArHfx_RY"
      },
      "outputs": [],
      "source": [
        "print(\"Column names:\")\n",
        "print(chipo.columns)"
      ]
    },
    {
      "cell_type": "markdown",
      "metadata": {
        "id": "ODpzq3zBx_RY"
      },
      "source": [
        "### Step 8. How is the dataset indexed?"
      ]
    },
    {
      "cell_type": "code",
      "execution_count": null,
      "metadata": {
        "id": "sTG6FEYkx_RY"
      },
      "outputs": [],
      "source": [
        "print(\"Index type:\", chipo.index)"
      ]
    },
    {
      "cell_type": "markdown",
      "metadata": {
        "id": "5zASR3E5x_RY"
      },
      "source": [
        "### Step 9. Which was the most-ordered item?"
      ]
    },
    {
      "cell_type": "code",
      "execution_count": 5,
      "metadata": {
        "id": "DJtQ6bE0x_RY"
      },
      "outputs": [],
      "source": [
        "most_ordered = chipo.groupby('item_name')['quantity'].sum()\n",
        "\n",
        "most_ordered = most_ordered.sort_values(ascending=False)\n",
        "\n",
        "most_ordered_item = most_ordered.index[0]"
      ]
    },
    {
      "cell_type": "markdown",
      "metadata": {
        "id": "T9TVYBpIx_RY"
      },
      "source": [
        "### Step 10. For the most-ordered item, how many items were ordered?"
      ]
    },
    {
      "cell_type": "code",
      "execution_count": 6,
      "metadata": {
        "id": "BYClhDwfx_RY"
      },
      "outputs": [],
      "source": [
        "quantity_ordered = most_ordered.iloc[0]"
      ]
    },
    {
      "cell_type": "markdown",
      "metadata": {
        "id": "-Qp1Hll-x_RY"
      },
      "source": [
        "### Step 11. What was the most ordered item in the choice_description column?"
      ]
    },
    {
      "cell_type": "code",
      "execution_count": 7,
      "metadata": {
        "id": "e4Aw_ycex_RZ"
      },
      "outputs": [],
      "source": [
        "most_ordered_choice = chipo.groupby('choice_description')['quantity'].sum()\n",
        "\n",
        "most_ordered_choice = most_ordered_choice.sort_values(ascending=False)\n",
        "\n",
        "most_ordered_item_choice = most_ordered_choice.index[0]"
      ]
    },
    {
      "cell_type": "markdown",
      "metadata": {
        "id": "zj4YPYIfx_RZ"
      },
      "source": [
        "### Step 12. How many items were orderd in total?"
      ]
    },
    {
      "cell_type": "code",
      "execution_count": 8,
      "metadata": {
        "id": "fxk3O-fxx_RZ"
      },
      "outputs": [],
      "source": [
        "total_items_ordered = chipo['quantity'].sum()"
      ]
    },
    {
      "cell_type": "markdown",
      "metadata": {
        "id": "9e9ePyuix_RZ"
      },
      "source": [
        "### Step 13. Turn the item price into a float"
      ]
    },
    {
      "cell_type": "code",
      "source": [
        "chipo['item_price'] = chipo['item_price'].str.replace('$', '').astype(float)\n",
        "\n"
      ],
      "metadata": {
        "id": "xupilYSA1aCm"
      },
      "execution_count": 9,
      "outputs": []
    },
    {
      "cell_type": "markdown",
      "metadata": {
        "id": "8s4rIvQJx_RZ"
      },
      "source": [
        "#### Step 13.a. Check the item price type"
      ]
    },
    {
      "cell_type": "code",
      "execution_count": 10,
      "metadata": {
        "id": "Rzu7W44Ax_RZ"
      },
      "outputs": [],
      "source": [
        "item_price_type = chipo['item_price'].dtype"
      ]
    },
    {
      "cell_type": "markdown",
      "metadata": {
        "id": "pRcsQ7x0x_RZ"
      },
      "source": [
        "#### Step 13.b. Create a lambda function and change the type of item price"
      ]
    },
    {
      "cell_type": "code",
      "execution_count": 12,
      "metadata": {
        "collapsed": true,
        "id": "1C7a_Vv9x_RZ"
      },
      "outputs": [],
      "source": [
        "convert_to_float = lambda x: float(x.replace('$', '')) if isinstance(x, str) else x\n",
        "\n",
        "chipo['item_price'] = chipo['item_price'].apply(convert_to_float)\n",
        "\n",
        "item_price_type = chipo['item_price'].dtype"
      ]
    },
    {
      "cell_type": "markdown",
      "metadata": {
        "id": "I8AQTzRix_RZ"
      },
      "source": [
        "#### Step 13.c. Check the item price type"
      ]
    },
    {
      "cell_type": "code",
      "execution_count": 13,
      "metadata": {
        "id": "Zk9BkiY8x_RZ"
      },
      "outputs": [],
      "source": [
        "item_price_type = chipo['item_price'].dtype"
      ]
    },
    {
      "cell_type": "markdown",
      "metadata": {
        "id": "VsdtqCLQx_Ra"
      },
      "source": [
        "### Step 14. How much was the revenue for the period in the dataset?"
      ]
    },
    {
      "cell_type": "code",
      "execution_count": 14,
      "metadata": {
        "id": "BiG7wDY4x_Ra"
      },
      "outputs": [],
      "source": [
        "revenue = (chipo['quantity'] * chipo['item_price']).sum()\n"
      ]
    },
    {
      "cell_type": "markdown",
      "metadata": {
        "id": "EgsI1p6gx_Ra"
      },
      "source": [
        "### Step 15. How many orders were made in the period?"
      ]
    },
    {
      "cell_type": "code",
      "execution_count": 15,
      "metadata": {
        "id": "Xr0pkkIAx_Ra"
      },
      "outputs": [],
      "source": [
        "num_orders = chipo['order_id'].nunique()"
      ]
    },
    {
      "cell_type": "markdown",
      "metadata": {
        "id": "B4f_JfHGx_Ra"
      },
      "source": [
        "### Step 16. What is the average revenue amount per order?"
      ]
    },
    {
      "cell_type": "code",
      "execution_count": null,
      "metadata": {
        "id": "ihPMHVaLx_Ra"
      },
      "outputs": [],
      "source": [
        "# Solution 1\n",
        "average_revenue_per_order = revenue / num_orders\n"
      ]
    },
    {
      "cell_type": "code",
      "execution_count": 17,
      "metadata": {
        "id": "nQxRHMwsx_Ra"
      },
      "outputs": [],
      "source": [
        "# Solution 2\n",
        "\n",
        "order_revenue = chipo.groupby('order_id').apply(lambda x: (x['quantity'] * x['item_price']).sum())\n",
        "\n",
        "average_revenue_per_order = order_revenue.mean()\n"
      ]
    },
    {
      "cell_type": "markdown",
      "metadata": {
        "id": "JeNSbHUZx_Re"
      },
      "source": [
        "### Step 17. How many different items are sold?"
      ]
    },
    {
      "cell_type": "code",
      "execution_count": 18,
      "metadata": {
        "id": "h0UfIba6x_Re"
      },
      "outputs": [],
      "source": [
        "num_unique_items = chipo['item_name'].nunique()"
      ]
    }
  ],
  "metadata": {
    "anaconda-cloud": {},
    "kernelspec": {
      "display_name": "Python [default]",
      "language": "python",
      "name": "python2"
    },
    "language_info": {
      "codemirror_mode": {
        "name": "ipython",
        "version": 2
      },
      "file_extension": ".py",
      "mimetype": "text/x-python",
      "name": "python",
      "nbconvert_exporter": "python",
      "pygments_lexer": "ipython2",
      "version": "2.7.12"
    },
    "colab": {
      "provenance": [],
      "include_colab_link": true
    }
  },
  "nbformat": 4,
  "nbformat_minor": 0
}