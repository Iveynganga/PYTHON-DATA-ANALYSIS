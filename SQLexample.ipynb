{
  "nbformat": 4,
  "nbformat_minor": 0,
  "metadata": {
    "colab": {
      "provenance": [],
      "authorship_tag": "ABX9TyNdhgdxjctjYOFaNdpdazH5",
      "include_colab_link": true
    },
    "kernelspec": {
      "name": "python3",
      "display_name": "Python 3"
    },
    "language_info": {
      "name": "python"
    }
  },
  "cells": [
    {
      "cell_type": "markdown",
      "metadata": {
        "id": "view-in-github",
        "colab_type": "text"
      },
      "source": [
        "<a href=\"https://colab.research.google.com/github/Iveynganga/PYTHON-DATA-ANALYSIS/blob/main/SQLexample.ipynb\" target=\"_parent\"><img src=\"https://colab.research.google.com/assets/colab-badge.svg\" alt=\"Open In Colab\"/></a>"
      ]
    },
    {
      "cell_type": "code",
      "execution_count": null,
      "metadata": {
        "id": "fs3EX9dLJkf0"
      },
      "outputs": [],
      "source": [
        "-- create a database\n",
        "\n",
        "create database School;\n",
        "use School;\n",
        "\n",
        "-- creating a table\n",
        "\n",
        "create table Students(\n",
        "Student_Id int primary key,\n",
        "LastName varchar(255) not null,\n",
        "FirstName varchar (255) not null,\n",
        "Age int);\n",
        "\n",
        "-- Test out the constraints\n",
        "-- not null\n",
        "insert into Students(Student_Id,LastName,FirstName,Age) values\n",
        "(1,'Doe',Null,25);\n",
        "\n",
        "select * from Students;\n",
        "\n",
        "-- add a column to our table\n",
        "-- with the constraint unique\n",
        "\n",
        "-- add a column to our table\n",
        "-- with the constraint unique\n",
        "alter table Students\n",
        "add column Subject varchar(255) unique;\n",
        "\n",
        "insert into Students(Student_Id,LastName,FirstName,Age,Subject) values\n",
        "(2,'Jane', 'Doe',31,'Math'),\n",
        "(3,'Mike', 'Kevin',26,'Literature'),\n",
        "(4, 'Joy','Ivy',27,'Math');\n",
        "\n",
        "-- drop column subject\n",
        "alter table Students\n",
        "drop column Subject;\n",
        "\n",
        "\n",
        "CREATE TABLE Persons (\n",
        "ID INT PRIMARY KEY,\n",
        "LastName VARCHAR(255),\n",
        "FirstName VARCHAR(255),\n",
        "Age INT,\n",
        "Subject VARCHAR(255)\n",
        ");\n",
        "INSERT INTO Persons (ID, LastName, FirstName, Age, Subject) VALUES\n",
        "(1, 'Smith', 'John', 30, 'Math'),\n",
        "(2, 'Johnson', 'Emily', 25, 'English'),\n",
        "(3, 'Williams', 'Michael', 35, 'Science'),\n",
        "(4, 'Brown', 'Jessica', 28, 'History'),\n",
        "(5, 'Jones', 'David', 32, 'Geography'),\n",
        "(6, 'Davis', 'Sarah', 30, 'Biology'),\n",
        "(7, 'Wilson', 'James', 31, 'Physics'),\n",
        "(8, 'Martinez', 'Ashley', 27, 'Chemistry'),\n",
        "(9, 'Anderson', 'Christopher', 33, 'Art'),\n",
        "(10, 'Taylor', 'Amanda', 25, 'Music'),\n",
        "(11, 'Thomas', 'Matthew', 34, 'Literature'),\n",
        "(12, 'Jackson', 'Stephanie', 28, 'Computer Science'),\n",
        "(13, 'White', 'Daniel', 28, 'Economics'),\n",
        "(14, 'Harris', 'Rachel', 32, 'Psychology'),\n",
        "(15, 'Clark', 'Justin', 25, 'Sociology'),\n",
        "(16, 'Lewis', 'Melissa', 35, 'Anthropology'),\n",
        "(17, 'Lee', 'Andrew', 29, 'Political Science'),\n",
        "(18, 'Walker', 'Laura', 31, 'Philosophy'),\n",
        "(19, 'Wright', 'Brian', 27, 'Languages'),\n",
        "(20, 'Young', 'Nicole', 33, 'Engineering');"
      ]
    }
  ]
}