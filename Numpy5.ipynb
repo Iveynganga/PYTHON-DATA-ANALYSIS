{
  "cells": [
    {
      "cell_type": "markdown",
      "metadata": {
        "id": "view-in-github",
        "colab_type": "text"
      },
      "source": [
        "<a href=\"https://colab.research.google.com/github/Iveynganga/PYTHON-DATA-ANALYSIS/blob/main/Numpy5.ipynb\" target=\"_parent\"><img src=\"https://colab.research.google.com/assets/colab-badge.svg\" alt=\"Open In Colab\"/></a>"
      ]
    },
    {
      "cell_type": "markdown",
      "metadata": {
        "id": "VxANfvLgP6AV"
      },
      "source": [
        "# Numpy Exercise 5\n",
        "\n",
        "### All of the questions in this exercise are attributed to rougier/numpy-100"
      ]
    },
    {
      "cell_type": "code",
      "execution_count": null,
      "metadata": {
        "id": "-j6iQ69yP6AZ"
      },
      "outputs": [],
      "source": []
    },
    {
      "cell_type": "markdown",
      "metadata": {
        "id": "1xdD4zGJP6Aa"
      },
      "source": [
        "#### 61. Find the nearest value from a given value in an array (★★☆)"
      ]
    },
    {
      "cell_type": "code",
      "execution_count": 1,
      "metadata": {
        "id": "cjkL-UEHP6Aa"
      },
      "outputs": [],
      "source": [
        "import numpy as np\n",
        "\n",
        "given_value = 0.5\n",
        "\n",
        "array = np.array([0.1, 0.3, 0.6, 0.8, 1.0])\n",
        "\n",
        "absolute_differences = np.abs(array - given_value)\n",
        "\n",
        "nearest_index = np.argmin(absolute_differences)\n",
        "\n",
        "nearest_value = array[nearest_index]"
      ]
    },
    {
      "cell_type": "markdown",
      "metadata": {
        "id": "LRvwPRC9P6Aa"
      },
      "source": [
        "#### 62. Considering two arrays with shape (1,3) and (3,1), how to compute their sum using an iterator? (★★☆)"
      ]
    },
    {
      "cell_type": "code",
      "execution_count": null,
      "metadata": {
        "id": "MNx7rc9HP6Ab"
      },
      "outputs": [],
      "source": [
        "import numpy as np\n",
        "\n",
        "array1 = np.array([[1, 2, 3]])\n",
        "array2 = np.array([[4], [5], [6]])\n",
        "\n",
        "sum_value = 0\n",
        "\n",
        "for element1, element2 in zip(np.nditer(array1), np.nditer(array2)):\n",
        "    sum_value += element1 + element2"
      ]
    },
    {
      "cell_type": "markdown",
      "metadata": {
        "id": "5UOhCxM_P6Ab"
      },
      "source": [
        "#### 63. Create an array class that has a name attribute (★★☆)"
      ]
    },
    {
      "cell_type": "code",
      "execution_count": 2,
      "metadata": {
        "id": "tv1UUPfVP6Ab"
      },
      "outputs": [],
      "source": [
        "import numpy as np\n",
        "\n",
        "class NamedArray(np.ndarray):\n",
        "    def __new__(cls, input_array, name=None):\n",
        "        obj = np.asarray(input_array).view(cls)\n",
        "        obj.name = name\n",
        "        return obj\n",
        "\n",
        "    def __array_finalize__(self, obj):\n",
        "        if obj is None:\n",
        "            return\n",
        "        self.name = getattr(obj, 'name', None)\n",
        "\n",
        "arr = NamedArray([1, 2, 3, 4, 5], name=\"MyArray\")\n"
      ]
    },
    {
      "cell_type": "markdown",
      "metadata": {
        "id": "Z7b3_58qP6Ac"
      },
      "source": [
        "#### 64. Consider a given vector, how to add 1 to each element indexed by a second vector (be careful with repeated indices)? (★★★)"
      ]
    },
    {
      "cell_type": "code",
      "execution_count": 3,
      "metadata": {
        "id": "DZiJNvQZP6Ac"
      },
      "outputs": [],
      "source": [
        "import numpy as np\n",
        "\n",
        "vector = np.array([1, 2, 3, 4, 5])\n",
        "\n",
        "indices = np.array([0, 1, 1, 3, 4])\n",
        "\n",
        "unique_indices, counts = np.unique(indices, return_counts=True)\n",
        "\n",
        "vector[unique_indices] += 1\n",
        "\n",
        "vector[unique_indices[counts > 1]] -= counts[counts > 1] - 1"
      ]
    },
    {
      "cell_type": "markdown",
      "metadata": {
        "id": "jw6FpRVjP6Ac"
      },
      "source": [
        "#### 65. How to accumulate elements of a vector (X) to an array (F) based on an index list (I)? (★★★)"
      ]
    },
    {
      "cell_type": "code",
      "execution_count": 7,
      "metadata": {
        "id": "e48ewYOpP6Ac"
      },
      "outputs": [],
      "source": [
        "import numpy as np\n",
        "\n",
        "X = np.array([1, 2, 3, 4, 5])\n",
        "I = np.array([0, 2, 5, 7, 2, 5])\n",
        "\n",
        "F_shape = np.max(I) + 1\n",
        "\n",
        "F = np.zeros(F_shape)\n",
        "\n",
        "for i, x in zip(I, X):\n",
        "    F[i] += x\n"
      ]
    },
    {
      "cell_type": "markdown",
      "metadata": {
        "id": "PASgY2W1P6Ac"
      },
      "source": [
        "#### 66. Considering a (w,h,3) image of (dtype=ubyte), compute the number of unique colors (★★☆)"
      ]
    },
    {
      "cell_type": "code",
      "execution_count": 8,
      "metadata": {
        "id": "UPbr5udmP6Ac"
      },
      "outputs": [],
      "source": [
        "import numpy as np\n",
        "\n",
        "image = np.random.randint(0, 256, size=(100, 100, 3), dtype=np.uint8)\n",
        "\n",
        "reshaped_image = image.reshape(-1, 3)\n",
        "\n",
        "unique_colors = np.unique(reshaped_image, axis=0)\n",
        "\n",
        "num_unique_colors = len(unique_colors)"
      ]
    },
    {
      "cell_type": "markdown",
      "metadata": {
        "id": "OkADu25BP6Ad"
      },
      "source": [
        "#### 67. Considering a four dimensions array, how to get sum over the last two axis at once? (★★★)"
      ]
    },
    {
      "cell_type": "code",
      "execution_count": 9,
      "metadata": {
        "id": "4Lb3hhgcP6Ad"
      },
      "outputs": [],
      "source": [
        "import numpy as np\n",
        "\n",
        "array = np.random.randint(0, 10, size=(3, 4, 5, 6))\n",
        "\n",
        "sum_last_two_axes = np.sum(array, axis=(-2, -1))"
      ]
    },
    {
      "cell_type": "markdown",
      "metadata": {
        "id": "S-J146NEP6Ad"
      },
      "source": [
        "#### 68. Considering a one-dimensional vector D, how to compute means of subsets of D using a vector S of same size describing subset  indices? (★★★)"
      ]
    },
    {
      "cell_type": "code",
      "execution_count": 10,
      "metadata": {
        "id": "r0_8g81kP6Ad"
      },
      "outputs": [],
      "source": [
        "import numpy as np\n",
        "\n",
        "D = np.array([1, 2, 3, 4, 5, 6, 7, 8, 9])\n",
        "S = np.array([0, 1, 1, 2, 2, 2, 3, 3, 3])\n",
        "\n",
        "unique_indices, counts = np.unique(S, return_counts=True)\n",
        "\n",
        "subset_means = []\n",
        "for index, count in zip(unique_indices, counts):\n",
        "    subset = D[S == index]\n",
        "    subset_mean = np.mean(subset)\n",
        "    subset_means.append(subset_mean)"
      ]
    },
    {
      "cell_type": "markdown",
      "metadata": {
        "id": "O0PelCplP6Ad"
      },
      "source": [
        "#### 69. How to get the diagonal of a dot product? (★★★)"
      ]
    },
    {
      "cell_type": "code",
      "execution_count": 11,
      "metadata": {
        "id": "UxU0d2B1P6Ad"
      },
      "outputs": [],
      "source": [
        "import numpy as np\n",
        "\n",
        "A = np.array([[1, 2, 3],\n",
        "              [4, 5, 6],\n",
        "              [7, 8, 9]])\n",
        "\n",
        "B = np.array([[9, 8, 7],\n",
        "              [6, 5, 4],\n",
        "              [3, 2, 1]])\n",
        "\n",
        "dot_product = np.dot(A, B)\n",
        "\n",
        "diagonal_dot_product = np.diag(dot_product)"
      ]
    },
    {
      "cell_type": "markdown",
      "metadata": {
        "id": "GYxvg085P6Ad"
      },
      "source": [
        "#### 70. Consider the vector [1, 2, 3, 4, 5], how to build a new vector with 3 consecutive zeros interleaved between each value? (★★★)"
      ]
    },
    {
      "cell_type": "code",
      "execution_count": 13,
      "metadata": {
        "id": "ESA74sI1P6Ad"
      },
      "outputs": [],
      "source": [
        "import numpy as np\n",
        "\n",
        "original_vector = np.array([1, 2, 3, 4, 5])\n",
        "\n",
        "consecutive_zeros = 3\n",
        "\n",
        "interleaved_elements = np.zeros((len(original_vector) - 1) * consecutive_zeros)\n",
        "\n",
        "new_vector = np.concatenate([original_vector, interleaved_elements])"
      ]
    },
    {
      "cell_type": "markdown",
      "metadata": {
        "id": "b6GjZ2_UP6Ae"
      },
      "source": [
        "#### 71. Consider an array of dimension (5,5,3), how to mulitply it by an array with dimensions (5,5)? (★★★)"
      ]
    },
    {
      "cell_type": "code",
      "execution_count": 14,
      "metadata": {
        "id": "2RMXs_JNP6Ae"
      },
      "outputs": [],
      "source": [
        "import numpy as np\n",
        "\n",
        "array_3d = np.random.randint(1, 10, size=(5, 5, 3))\n",
        "\n",
        "array_2d = np.random.randint(1, 10, size=(5, 5))\n",
        "\n",
        "result = array_3d * array_2d[:, :, np.newaxis]"
      ]
    },
    {
      "cell_type": "markdown",
      "metadata": {
        "id": "CwduOWPzP6Ae"
      },
      "source": [
        "#### 72. How to swap two rows of an array? (★★★)"
      ]
    },
    {
      "cell_type": "code",
      "execution_count": 15,
      "metadata": {
        "id": "yZv3-apvP6Ae"
      },
      "outputs": [],
      "source": [
        "import numpy as np\n",
        "\n",
        "array = np.array([[1, 2, 3],\n",
        "                  [4, 5, 6],\n",
        "                  [7, 8, 9]])\n",
        "\n",
        "array[0], array[1] = array[1], array[0]"
      ]
    },
    {
      "cell_type": "markdown",
      "metadata": {
        "id": "3SW6J2sBP6Ae"
      },
      "source": [
        "#### 73. Consider a set of 10 triplets describing 10 triangles (with shared vertices), find the set of unique line segments composing all the  triangles (★★★)"
      ]
    },
    {
      "cell_type": "code",
      "execution_count": 16,
      "metadata": {
        "id": "1EDHPTAAP6Ae"
      },
      "outputs": [],
      "source": [
        "triangles = [\n",
        "    [(0, 0), (1, 0), (0, 1)],\n",
        "    [(1, 0), (1, 1), (0, 1)],\n",
        "    [(1, 1), (2, 1), (2, 0)],\n",
        "    [(2, 0), (1, 0), (1, 1)],\n",
        "    [(2, 1), (1, 1), (1, 2)],\n",
        "    [(1, 2), (2, 2), (2, 1)],\n",
        "    [(2, 2), (1, 2), (1, 3)],\n",
        "    [(1, 3), (2, 3), (2, 2)],\n",
        "    [(2, 3), (1, 3), (1, 4)],\n",
        "    [(1, 4), (2, 4), (2, 3)]\n",
        "]\n",
        "\n",
        "unique_segments = set()\n",
        "\n",
        "for triangle in triangles:\n",
        "\n",
        "    edges = [(triangle[i], triangle[(i + 1) % 3]) for i in range(3)]\n",
        "\n",
        "    unique_segments.update(edges)"
      ]
    },
    {
      "cell_type": "markdown",
      "metadata": {
        "id": "NE8QEi-tP6Ae"
      },
      "source": [
        "#### 74. Given a sorted array C that corresponds to a bincount, how to produce an array A such that np.bincount(A) == C? (★★★)"
      ]
    },
    {
      "cell_type": "code",
      "execution_count": null,
      "metadata": {
        "id": "Dc3LzP_UP6Ae"
      },
      "outputs": [],
      "source": [
        "import numpy as np\n",
        "\n",
        "C = np.array([0, 1, 2, 0, 1, 1, 3, 1])\n",
        "\n",
        "A = np.repeat(np.arange(len(C)), C)"
      ]
    },
    {
      "cell_type": "markdown",
      "metadata": {
        "id": "DPXMB-DIP6Ae"
      },
      "source": [
        "#### 75. How to compute averages using a sliding window over an array? (★★★)"
      ]
    },
    {
      "cell_type": "code",
      "execution_count": 17,
      "metadata": {
        "id": "PRENBQI4P6Ae"
      },
      "outputs": [],
      "source": [
        "import numpy as np\n",
        "\n",
        "arr = np.array([1, 2, 3, 4, 5, 6, 7, 8, 9, 10])\n",
        "\n",
        "window_size = 3\n",
        "\n",
        "averages = np.convolve(arr, np.ones(window_size)/window_size, mode='valid')"
      ]
    },
    {
      "cell_type": "markdown",
      "metadata": {
        "id": "8y8N_vA1P6Af"
      },
      "source": [
        "#### 76. Consider a one-dimensional array Z, build a two-dimensional array whose first row is (Z[0],Z[1],Z[2]) and each subsequent row is  shifted by 1 (last row should be (Z[-3],Z[-2],Z[-1]) (★★★)"
      ]
    },
    {
      "cell_type": "code",
      "execution_count": 18,
      "metadata": {
        "id": "go8jry05P6Af"
      },
      "outputs": [],
      "source": [
        "import numpy as np\n",
        "\n",
        "Z = np.array([1, 2, 3, 4, 5, 6, 7])\n",
        "\n",
        "num_rows = len(Z) - 2\n",
        "\n",
        "result_array = np.zeros((num_rows, 3), dtype=Z.dtype)\n",
        "\n",
        "for i in range(num_rows):\n",
        "    result_array[i] = Z[i:i+3]"
      ]
    },
    {
      "cell_type": "markdown",
      "metadata": {
        "id": "4--k55ATP6Af"
      },
      "source": [
        "#### 77. How to negate a boolean, or to change the sign of a float inplace? (★★★)"
      ]
    },
    {
      "cell_type": "code",
      "execution_count": 19,
      "metadata": {
        "colab": {
          "base_uri": "https://localhost:8080/"
        },
        "id": "ifJOCmKyP6Af",
        "outputId": "82487661-d06d-4bad-a20a-50d9a095a31b"
      },
      "outputs": [
        {
          "output_type": "stream",
          "name": "stdout",
          "text": [
            "Negated boolean: False\n"
          ]
        }
      ],
      "source": [
        "boolean_var = True\n",
        "\n",
        "boolean_var = not boolean_var\n",
        "\n",
        "print(\"Negated boolean:\", boolean_var)"
      ]
    },
    {
      "cell_type": "markdown",
      "metadata": {
        "id": "bNiY4vg0P6Af"
      },
      "source": [
        "#### 78. Consider 2 sets of points P0,P1 describing lines (2d) and a point p, how to compute distance from p to each line i (P0[i],P1[i])? (★★★)"
      ]
    },
    {
      "cell_type": "code",
      "execution_count": 20,
      "metadata": {
        "id": "QiRBllrqP6Af"
      },
      "outputs": [],
      "source": [
        "import numpy as np\n",
        "\n",
        "def distance_point_to_line(p, p0, p1):\n",
        "    \"\"\"\n",
        "    Compute the distance from a point p to a line defined by points p0 and p1.\n",
        "    \"\"\"\n",
        "\n",
        "    p = np.array(p)\n",
        "    p0 = np.array(p0)\n",
        "    p1 = np.array(p1)\n",
        "\n",
        "    v = p1 - p0\n",
        "\n",
        "    w = p - p0\n",
        "\n",
        "    projection = np.dot(w, v) / np.dot(v, v) * v\n",
        "\n",
        "    closest_point = p0 + projection\n",
        "\n",
        "    distance = np.linalg.norm(p - closest_point)\n",
        "\n",
        "    return distance\n",
        "\n",
        "P0 = [(1, 1), (2, 3), (4, 5)]\n",
        "P1 = [(4, 5), (5, 1), (6, 2)]\n",
        "p = (3, 4)\n",
        "\n",
        "distances = [distance_point_to_line(p, P0[i], P1[i]) for i in range(len(P0))]"
      ]
    },
    {
      "cell_type": "markdown",
      "metadata": {
        "id": "oU6YQmXWP6Af"
      },
      "source": [
        "#### 79. Consider 2 sets of points P0,P1 describing lines (2d) and a set of points P, how to compute distance from each point j (P[j]) to each line i (P0[i],P1[i])? (★★★)"
      ]
    },
    {
      "cell_type": "code",
      "execution_count": 21,
      "metadata": {
        "id": "pBxhwwbaP6Aj"
      },
      "outputs": [],
      "source": [
        "import numpy as np\n",
        "\n",
        "def distance_point_to_line(point, p0, p1):\n",
        "    \"\"\"\n",
        "    Compute the distance from a point to a line defined by two points.\n",
        "    \"\"\"\n",
        "    point = np.array(point)\n",
        "    p0 = np.array(p0)\n",
        "    p1 = np.array(p1)\n",
        "\n",
        "    v = p1 - p0\n",
        "\n",
        "    w = point - p0\n",
        "\n",
        "    projection = np.dot(w, v) / np.dot(v, v) * v\n",
        "\n",
        "    distance = np.linalg.norm(w - projection)\n",
        "\n",
        "    return distance\n",
        "\n",
        "def distances_points_to_lines(points, P0, P1):\n",
        "    \"\"\"\n",
        "    Compute the distances from each point to each line defined by pairs of points.\n",
        "    \"\"\"\n",
        "    distances = np.zeros((len(points), len(P0)))\n",
        "\n",
        "    for j, point in enumerate(points):\n",
        "        for i, (p0, p1) in enumerate(zip(P0, P1)):\n",
        "            distances[j, i] = distance_point_to_line(point, p0, p1)\n",
        "\n",
        "    return distances\n",
        "\n",
        "P0 = [(1, 1), (2, 3), (4, 5)]\n",
        "P1 = [(4, 5), (5, 1), (6, 2)]\n",
        "P = [(3, 4), (2, 1), (5, 5)]\n",
        "\n",
        "distances = distances_points_to_lines(P, P0, P1)"
      ]
    },
    {
      "cell_type": "markdown",
      "metadata": {
        "id": "aL47Z47fP6Ak"
      },
      "source": [
        "#### 80. Consider an arbitrary array, write a function that extract a subpart with a fixed shape and centered on a given element (pad with a `fill` value when necessary) (★★★)"
      ]
    },
    {
      "cell_type": "code",
      "execution_count": 22,
      "metadata": {
        "id": "8jep3s1aP6Ak"
      },
      "outputs": [],
      "source": [
        "import numpy as np\n",
        "\n",
        "def extract_subpart(array, shape, center, fill_value=0):\n",
        "    \"\"\"\n",
        "    Extract a subpart with a fixed shape centered on a given element,\n",
        "    padding with a fill value when necessary.\n",
        "    \"\"\"\n",
        "    lower_bounds = np.maximum(center - np.array(shape) // 2, 0)\n",
        "    upper_bounds = np.minimum(lower_bounds + shape, array.shape)\n",
        "\n",
        "    subpart = np.full(shape, fill_value, dtype=array.dtype)\n",
        "\n",
        "    array_slice = tuple(slice(lower, upper) for lower, upper in zip(lower_bounds, upper_bounds))\n",
        "\n",
        "    subpart_slice = tuple(slice(0, upper - lower) for lower, upper in zip(lower_bounds, upper_bounds))\n",
        "\n",
        "    subpart[subpart_slice] = array[array_slice]\n",
        "\n",
        "    return subpart\n",
        "\n",
        "array = np.arange(1, 26).reshape(5, 5)\n",
        "\n",
        "center = (2, 2)\n",
        "shape = (3, 3)\n",
        "\n",
        "subpart = extract_subpart(array, shape, center)"
      ]
    },
    {
      "cell_type": "markdown",
      "metadata": {
        "id": "gLHDvqN_P6Ak"
      },
      "source": [
        "#### 81. Consider an array Z = [1,2,3,4,5,6,7,8,9,10,11,12,13,14], how to generate an array R = [[1,2,3,4], [2,3,4,5], [3,4,5,6], ..., [11,12,13,14]]? (★★★)"
      ]
    },
    {
      "cell_type": "code",
      "execution_count": null,
      "metadata": {
        "id": "76zWhEhQP6Ak"
      },
      "outputs": [],
      "source": []
    },
    {
      "cell_type": "markdown",
      "metadata": {
        "id": "gciJGwglP6Al"
      },
      "source": [
        "#### 82. Compute a matrix rank (★★★)"
      ]
    },
    {
      "cell_type": "code",
      "execution_count": null,
      "metadata": {
        "id": "pVT_DnhZP6Al"
      },
      "outputs": [],
      "source": []
    },
    {
      "cell_type": "markdown",
      "metadata": {
        "id": "SMDRGUdhP6Al"
      },
      "source": [
        "#### 83. How to find the most frequent value in an array?"
      ]
    },
    {
      "cell_type": "code",
      "execution_count": null,
      "metadata": {
        "id": "r_iaa2VJP6Al"
      },
      "outputs": [],
      "source": []
    },
    {
      "cell_type": "markdown",
      "metadata": {
        "id": "7jY6fmJYP6Am"
      },
      "source": [
        "#### 84. Extract all the contiguous 3x3 blocks from a random 10x10 matrix (★★★)"
      ]
    },
    {
      "cell_type": "code",
      "execution_count": null,
      "metadata": {
        "id": "CSdwYb3tP6Am"
      },
      "outputs": [],
      "source": []
    },
    {
      "cell_type": "markdown",
      "metadata": {
        "id": "RoeGINzVP6Am"
      },
      "source": [
        "#### 85. Create a 2D array subclass such that Z[i,j] == Z[j,i] (★★★)"
      ]
    },
    {
      "cell_type": "code",
      "execution_count": null,
      "metadata": {
        "id": "SUXK4jqDP6Am"
      },
      "outputs": [],
      "source": []
    },
    {
      "cell_type": "markdown",
      "metadata": {
        "id": "P6JAZCz5P6Am"
      },
      "source": [
        "#### 86. Consider a set of p matrices wich shape (n,n) and a set of p vectors with shape (n,1). How to compute the sum of of the p matrix products at once? (result has shape (n,1)) (★★★)"
      ]
    },
    {
      "cell_type": "code",
      "execution_count": null,
      "metadata": {
        "id": "q8WUoAWdP6Am"
      },
      "outputs": [],
      "source": []
    },
    {
      "cell_type": "markdown",
      "metadata": {
        "id": "TsEAOTZPP6Am"
      },
      "source": [
        "#### 87. Consider a 16x16 array, how to get the block-sum (block size is 4x4)? (★★★)"
      ]
    },
    {
      "cell_type": "code",
      "execution_count": null,
      "metadata": {
        "id": "pJoTpuulP6An"
      },
      "outputs": [],
      "source": []
    },
    {
      "cell_type": "markdown",
      "metadata": {
        "id": "ulUGSxm6P6An"
      },
      "source": [
        "#### 88. How to implement the Game of Life using numpy arrays? (★★★)"
      ]
    },
    {
      "cell_type": "code",
      "execution_count": null,
      "metadata": {
        "id": "yUj_ynakP6An"
      },
      "outputs": [],
      "source": []
    },
    {
      "cell_type": "markdown",
      "metadata": {
        "id": "U4WMIPwrP6An"
      },
      "source": [
        "#### 89. How to get the n largest values of an array (★★★)"
      ]
    },
    {
      "cell_type": "code",
      "execution_count": null,
      "metadata": {
        "id": "sFKLytvOP6An"
      },
      "outputs": [],
      "source": []
    },
    {
      "cell_type": "markdown",
      "metadata": {
        "id": "4FQiQF7PP6An"
      },
      "source": [
        "#### 90. Given an arbitrary number of vectors, build the cartesian product (every combinations of every item) (★★★)"
      ]
    },
    {
      "cell_type": "code",
      "execution_count": null,
      "metadata": {
        "id": "SIRutb4NP6An"
      },
      "outputs": [],
      "source": []
    },
    {
      "cell_type": "markdown",
      "metadata": {
        "id": "gRe1Tos8P6An"
      },
      "source": [
        "#### 91. How to create a record array from a regular array? (★★★)"
      ]
    },
    {
      "cell_type": "code",
      "execution_count": null,
      "metadata": {
        "id": "xo3RK9AmP6An"
      },
      "outputs": [],
      "source": []
    },
    {
      "cell_type": "markdown",
      "metadata": {
        "id": "_zc3D_R-P6An"
      },
      "source": [
        "#### 92. Consider a large vector Z, compute Z to the power of 3 using 3 different methods (★★★)"
      ]
    },
    {
      "cell_type": "code",
      "execution_count": null,
      "metadata": {
        "id": "otNtIcVYP6An"
      },
      "outputs": [],
      "source": []
    },
    {
      "cell_type": "markdown",
      "metadata": {
        "id": "DFUeOPYQP6An"
      },
      "source": [
        "#### 93. Consider two arrays A and B of shape (8,3) and (2,2). How to find rows of A that contain elements of each row of B regardless of the order of the elements in B? (★★★)"
      ]
    },
    {
      "cell_type": "code",
      "execution_count": null,
      "metadata": {
        "id": "6rlHDD1-P6Ao"
      },
      "outputs": [],
      "source": []
    },
    {
      "cell_type": "markdown",
      "metadata": {
        "id": "zTAZhPyzP6Ao"
      },
      "source": [
        "#### 94. Considering a 10x3 matrix, extract rows with unequal values (e.g. [2,2,3]) (★★★)"
      ]
    },
    {
      "cell_type": "code",
      "execution_count": null,
      "metadata": {
        "id": "gCgAognTP6Ao"
      },
      "outputs": [],
      "source": []
    },
    {
      "cell_type": "markdown",
      "metadata": {
        "id": "329-SW4KP6Ao"
      },
      "source": [
        "#### 95. Convert a vector of ints into a matrix binary representation (★★★)"
      ]
    },
    {
      "cell_type": "code",
      "execution_count": null,
      "metadata": {
        "id": "HQASAVWEP6Ao"
      },
      "outputs": [],
      "source": []
    },
    {
      "cell_type": "markdown",
      "metadata": {
        "id": "hhm-nzxXP6Ao"
      },
      "source": [
        "#### 96. Given a two dimensional array, how to extract unique rows? (★★★)"
      ]
    },
    {
      "cell_type": "code",
      "execution_count": null,
      "metadata": {
        "id": "fpCryvQ-P6Ao"
      },
      "outputs": [],
      "source": []
    },
    {
      "cell_type": "markdown",
      "metadata": {
        "id": "eI2XYKz5P6Ao"
      },
      "source": [
        "#### 97. Considering 2 vectors A & B, write the einsum equivalent of inner, outer, sum, and mul function (★★★)"
      ]
    },
    {
      "cell_type": "code",
      "execution_count": null,
      "metadata": {
        "id": "i5dtiVccP6Ap"
      },
      "outputs": [],
      "source": []
    },
    {
      "cell_type": "markdown",
      "metadata": {
        "id": "Q6nU87jFP6Ap"
      },
      "source": [
        "#### 98. Considering a path described by two vectors (X,Y), how to sample it using equidistant samples (★★★)?"
      ]
    },
    {
      "cell_type": "code",
      "execution_count": null,
      "metadata": {
        "id": "HFanEo96P6Ap"
      },
      "outputs": [],
      "source": []
    },
    {
      "cell_type": "markdown",
      "metadata": {
        "id": "YOb5WH6kP6Ap"
      },
      "source": [
        "#### 99. Given an integer n and a 2D array X, select from X the rows which can be interpreted as draws from a multinomial distribution with n degrees, i.e., the rows which only contain integers and which sum to n. (★★★)"
      ]
    },
    {
      "cell_type": "code",
      "execution_count": null,
      "metadata": {
        "id": "T0juMQwDP6Ap"
      },
      "outputs": [],
      "source": []
    },
    {
      "cell_type": "markdown",
      "metadata": {
        "id": "y6T58T53P6Ap"
      },
      "source": [
        "#### 100. Compute bootstrapped 95% confidence intervals for the mean of a 1D array X (i.e., resample the elements of an array with replacement N times, compute the mean of each sample, and then compute percentiles over the means). (★★★)"
      ]
    },
    {
      "cell_type": "code",
      "execution_count": null,
      "metadata": {
        "id": "BNAHnQc4P6Ap"
      },
      "outputs": [],
      "source": []
    },
    {
      "cell_type": "code",
      "execution_count": null,
      "metadata": {
        "id": "66bmjZH6P6Ap"
      },
      "outputs": [],
      "source": []
    }
  ],
  "metadata": {
    "kernelspec": {
      "display_name": "Python 3",
      "language": "python",
      "name": "python3"
    },
    "language_info": {
      "codemirror_mode": {
        "name": "ipython",
        "version": 3
      },
      "file_extension": ".py",
      "mimetype": "text/x-python",
      "name": "python",
      "nbconvert_exporter": "python",
      "pygments_lexer": "ipython3",
      "version": "3.7.4"
    },
    "colab": {
      "provenance": [],
      "include_colab_link": true
    }
  },
  "nbformat": 4,
  "nbformat_minor": 0
}