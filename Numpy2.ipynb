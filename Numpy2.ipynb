{
  "cells": [
    {
      "cell_type": "markdown",
      "metadata": {
        "id": "view-in-github",
        "colab_type": "text"
      },
      "source": [
        "<a href=\"https://colab.research.google.com/github/Iveynganga/PYTHON-DATA-ANALYSIS/blob/main/Numpy2.ipynb\" target=\"_parent\"><img src=\"https://colab.research.google.com/assets/colab-badge.svg\" alt=\"Open In Colab\"/></a>"
      ]
    },
    {
      "cell_type": "markdown",
      "metadata": {
        "id": "pQJTcoxpG8d_"
      },
      "source": [
        "# Numpy Exercise 2\n",
        "\n",
        "### All of the questions in this exercise are attributed to rougier/numpy-100"
      ]
    },
    {
      "cell_type": "code",
      "execution_count": null,
      "metadata": {
        "id": "vuCGnVkdG8eB"
      },
      "outputs": [],
      "source": []
    },
    {
      "cell_type": "markdown",
      "metadata": {
        "id": "RMTHprLEG8eC"
      },
      "source": [
        "#### 16. How to add a border (filled with 0's) around an existing array? (★☆☆)"
      ]
    },
    {
      "cell_type": "code",
      "execution_count": 3,
      "metadata": {
        "id": "UZoa8oEmG8eD"
      },
      "outputs": [],
      "source": [
        "import numpy as np\n",
        "\n",
        "original_array = np.array([[1, 2, 3],\n",
        "                           [4, 5, 6],\n",
        "                           [7, 8, 9]])\n",
        "\n",
        "rows, cols = original_array.shape\n",
        "expanded_rows, expanded_cols = rows + 2, cols + 2\n",
        "\n",
        "expanded_array = np.zeros((expanded_rows, expanded_cols))\n",
        "expanded_array[1:-1, 1:-1] = original_array\n"
      ]
    },
    {
      "cell_type": "markdown",
      "metadata": {
        "id": "Nj68OJxHG8eD"
      },
      "source": [
        "#### 17. What is the result of the following expression? (★☆☆)\n",
        "```python\n",
        "0 * np.nan\n",
        "np.nan == np.nan\n",
        "np.inf > np.nan\n",
        "np.nan - np.nan\n",
        "np.nan in set([np.nan])\n",
        "0.3 == 3 * 0.1\n",
        "```"
      ]
    },
    {
      "cell_type": "code",
      "execution_count": 8,
      "metadata": {
        "id": "qrw6_nyCG8eD",
        "colab": {
          "base_uri": "https://localhost:8080/",
          "height": 106
        },
        "outputId": "e7f68481-189c-41b1-8582-1cc995d38e72"
      },
      "outputs": [
        {
          "output_type": "error",
          "ename": "SyntaxError",
          "evalue": "illegal target for annotation (<ipython-input-8-14d9f3a0bf33>, line 1)",
          "traceback": [
            "\u001b[0;36m  File \u001b[0;32m\"<ipython-input-8-14d9f3a0bf33>\"\u001b[0;36m, line \u001b[0;32m1\u001b[0m\n\u001b[0;31m    0 * np.nan: 0\u001b[0m\n\u001b[0m    ^\u001b[0m\n\u001b[0;31mSyntaxError\u001b[0m\u001b[0;31m:\u001b[0m illegal target for annotation\n"
          ]
        }
      ],
      "source": [
        "0 * np.nan: 0\n",
        "np.nan == np.nan: False\n",
        "np.inf > np.nan: False\n",
        "np.nan - np.nan: np.nan\n",
        "np.nan in set([np.nan]): True\n",
        "0.3 == 3 * 0.1: False"
      ]
    },
    {
      "cell_type": "markdown",
      "metadata": {
        "id": "nowcIkV5G8eD"
      },
      "source": [
        "#### 18. Create a 5x5 matrix with values 1,2,3,4 just below the diagonal (★☆☆)"
      ]
    },
    {
      "cell_type": "code",
      "execution_count": 9,
      "metadata": {
        "id": "CwGWG9EkG8eD"
      },
      "outputs": [],
      "source": [
        "import numpy as np\n",
        "\n",
        "diagonal_values = [1, 2, 3, 4]\n",
        "diagonal_matrix = np.diag(diagonal_values, k=-1)\n",
        "result_matrix = diagonal_matrix + 1\n"
      ]
    },
    {
      "cell_type": "markdown",
      "metadata": {
        "id": "ze5aW9UvG8eE"
      },
      "source": [
        "#### 19. Create a 8x8 matrix and fill it with a checkerboard pattern (★☆☆)"
      ]
    },
    {
      "cell_type": "code",
      "execution_count": 10,
      "metadata": {
        "id": "z2fVwGbZG8eE"
      },
      "outputs": [],
      "source": [
        "import numpy as np\n",
        "matrix = np.zeros((8, 8), dtype=int)\n",
        "matrix[::2, ::2] = 1\n",
        "matrix[1::2, 1::2] = 1"
      ]
    },
    {
      "cell_type": "markdown",
      "metadata": {
        "id": "hL1ZirknG8eE"
      },
      "source": [
        "#### 20. Consider a (6,7,8) shape array, what is the index (x,y,z) of the 100th element?"
      ]
    },
    {
      "cell_type": "code",
      "execution_count": 11,
      "metadata": {
        "id": "7c9kfi1MG8eE"
      },
      "outputs": [],
      "source": [
        "import numpy as np\n",
        "shape = (6, 7, 8)\n",
        "total_elements = np.prod(shape)\n",
        "index_100th_element = 100 - 1\n",
        "x_index = index_100th_element // (shape[1] * shape[2])\n",
        "y_index = (index_100th_element % (shape[1] * shape[2])) // shape[2]\n",
        "z_index = (index_100th_element % (shape[1] * shape[2])) % shape[2]"
      ]
    },
    {
      "cell_type": "markdown",
      "metadata": {
        "id": "hNUPBOSwG8eE"
      },
      "source": [
        "#### 21. Create a checkerboard 8x8 matrix using the tile function (★☆☆)"
      ]
    },
    {
      "cell_type": "code",
      "execution_count": 12,
      "metadata": {
        "id": "Rror_4NCG8eE"
      },
      "outputs": [],
      "source": [
        "import numpy as np\n",
        "checkerboard_tile = np.array([[0, 1], [1, 0]])\n",
        "checkerboard = np.tile(checkerboard_tile, (4, 4))\n"
      ]
    },
    {
      "cell_type": "markdown",
      "metadata": {
        "id": "a_J1WUgGG8eE"
      },
      "source": [
        "#### 22. Normalize a 5x5 random matrix (★☆☆)"
      ]
    },
    {
      "cell_type": "code",
      "execution_count": 13,
      "metadata": {
        "id": "kZtQ7kboG8eF"
      },
      "outputs": [],
      "source": [
        "import numpy as np\n",
        "random_matrix = np.random.rand(5, 5)\n",
        "min_value = np.min(random_matrix)\n",
        "max_value = np.max(random_matrix)\n",
        "normalized_matrix = (random_matrix - min_value) / (max_value - min_value)"
      ]
    },
    {
      "cell_type": "markdown",
      "metadata": {
        "id": "0NYhaclaG8eF"
      },
      "source": [
        "#### 23. Create a custom dtype that describes a color as four unsigned bytes (RGBA) (★☆☆)"
      ]
    },
    {
      "cell_type": "code",
      "execution_count": 14,
      "metadata": {
        "id": "OqBdCZsNG8eF"
      },
      "outputs": [],
      "source": [
        "import numpy as np\n",
        "color_dtype = np.dtype([('R', np.uint8),\n",
        "                        ('G', np.uint8),\n",
        "                        ('B', np.uint8),\n",
        "                        ('A', np.uint8)])"
      ]
    },
    {
      "cell_type": "markdown",
      "metadata": {
        "id": "oJX_gYkrG8eF"
      },
      "source": [
        "#### 24. Multiply a 5x3 matrix by a 3x2 matrix (real matrix product) (★☆☆)"
      ]
    },
    {
      "cell_type": "code",
      "execution_count": 15,
      "metadata": {
        "id": "tqwOczmXG8eF"
      },
      "outputs": [],
      "source": [
        "import numpy as np\n",
        "matrix1 = np.random.rand(5, 3)\n",
        "matrix2 = np.random.rand(3, 2)\n",
        "result = np.dot(matrix1, matrix2)"
      ]
    },
    {
      "cell_type": "markdown",
      "metadata": {
        "id": "xhyoSo3KG8eF"
      },
      "source": [
        "#### 25. Given a 1D array, negate all elements which are between 3 and 8, in place. (★☆☆)"
      ]
    },
    {
      "cell_type": "code",
      "execution_count": 16,
      "metadata": {
        "id": "aO860FMHG8eF"
      },
      "outputs": [],
      "source": [
        "import numpy as np\n",
        "\n",
        "arr = np.array([1, 4, 6, 7, 3, 8, 2, 9, 5])\n",
        "\n",
        "arr[(arr > 3) & (arr < 8)] *= -1\n"
      ]
    },
    {
      "cell_type": "markdown",
      "metadata": {
        "id": "iuXhTf-NG8eF"
      },
      "source": [
        "#### 26. What is the output of the following script? (★☆☆)\n",
        "```python\n",
        "# Author: Jake VanderPlas\n",
        "\n",
        "print(sum(range(5),-1))\n",
        "from numpy import *\n",
        "print(sum(range(5),-1))\n",
        "```"
      ]
    },
    {
      "cell_type": "code",
      "execution_count": 17,
      "metadata": {
        "id": "MGABapq7G8eF",
        "colab": {
          "base_uri": "https://localhost:8080/"
        },
        "outputId": "2d814985-bfb7-4617-a7d8-df895feddab9"
      },
      "outputs": [
        {
          "output_type": "stream",
          "name": "stdout",
          "text": [
            "9\n"
          ]
        }
      ],
      "source": [
        "print(sum(range(5), -1))"
      ]
    },
    {
      "cell_type": "markdown",
      "metadata": {
        "id": "EyzoAFE5G8eF"
      },
      "source": [
        "#### 27. Consider an integer vector Z, which of these expressions are legal? (★☆☆)\n",
        "```python\n",
        "Z**Z\n",
        "2 << Z >> 2\n",
        "Z <- Z\n",
        "1j*Z\n",
        "Z/1/1\n",
        "Z<Z>Z\n",
        "```"
      ]
    },
    {
      "cell_type": "code",
      "execution_count": 20,
      "metadata": {
        "id": "rjolK8dAG8eG",
        "colab": {
          "base_uri": "https://localhost:8080/"
        },
        "outputId": "076db65b-69bc-4d91-edbd-86e01527e43b"
      },
      "outputs": [
        {
          "output_type": "execute_result",
          "data": {
            "text/plain": [
              "array([1., 2., 3., 4., 5.])"
            ]
          },
          "metadata": {},
          "execution_count": 20
        }
      ],
      "source": [
        "import numpy as np\n",
        "\n",
        "# Define Z as an integer vector\n",
        "Z = np.array([1, 2, 3, 4, 5])\n",
        "\n",
        "Z**Z\n",
        "2 << Z >> 2\n",
        "Z <- Z\n",
        "1j*Z\n",
        "Z/1/1"
      ]
    },
    {
      "cell_type": "markdown",
      "metadata": {
        "id": "vcC_pPA7G8eG"
      },
      "source": [
        "#### 28. What are the result of the following expressions?\n",
        "```python\n",
        "np.array(0) / np.array(0)\n",
        "np.array(0) // np.array(0)\n",
        "np.array([np.nan]).astype(int).astype(float)\n",
        "```"
      ]
    },
    {
      "cell_type": "code",
      "execution_count": 21,
      "metadata": {
        "id": "PSuPtOwBG8eG",
        "colab": {
          "base_uri": "https://localhost:8080/"
        },
        "outputId": "717a8cd0-bf4b-4a15-9c69-d3ca54b56ccc"
      },
      "outputs": [
        {
          "output_type": "stream",
          "name": "stderr",
          "text": [
            "<ipython-input-21-cbe660f86d4a>:3: RuntimeWarning: invalid value encountered in divide\n",
            "  result1 = np.array(0) / np.array(0)\n",
            "<ipython-input-21-cbe660f86d4a>:5: RuntimeWarning: divide by zero encountered in floor_divide\n",
            "  result2 = np.array(0) // np.array(0)\n",
            "<ipython-input-21-cbe660f86d4a>:7: RuntimeWarning: invalid value encountered in cast\n",
            "  result3 = np.array([np.nan]).astype(int).astype(float)\n"
          ]
        }
      ],
      "source": [
        "import numpy as np\n",
        "\n",
        "result1 = np.array(0) / np.array(0)\n",
        "\n",
        "result2 = np.array(0) // np.array(0)\n",
        "\n",
        "result3 = np.array([np.nan]).astype(int).astype(float)"
      ]
    },
    {
      "cell_type": "markdown",
      "metadata": {
        "id": "Kcmck1xJG8eG"
      },
      "source": [
        "#### 29. How to round away from zero a float array ? (★☆☆)"
      ]
    },
    {
      "cell_type": "code",
      "execution_count": 22,
      "metadata": {
        "id": "SYD2TJ2BG8eG"
      },
      "outputs": [],
      "source": [
        "import numpy as np\n",
        "\n",
        "float_array = np.array([-3.5, -2.3, -1.7, -0.5, 0.5, 1.7, 2.3, 3.5])\n",
        "\n",
        "rounded_array = np.where(float_array >= 0, np.ceil(float_array), np.floor(float_array))"
      ]
    },
    {
      "cell_type": "markdown",
      "metadata": {
        "id": "0vpMvK3FG8eG"
      },
      "source": [
        "#### 30. How to find common values between two arrays? (★☆☆)"
      ]
    },
    {
      "cell_type": "code",
      "execution_count": 23,
      "metadata": {
        "id": "RPwarMkWG8eG"
      },
      "outputs": [],
      "source": [
        "import numpy as np\n",
        "\n",
        "array1 = np.array([1, 2, 3, 4, 5])\n",
        "array2 = np.array([3, 4, 5, 6, 7])\n",
        "\n",
        "common_values = np.intersect1d(array1, array2)"
      ]
    }
  ],
  "metadata": {
    "kernelspec": {
      "display_name": "Python 3",
      "language": "python",
      "name": "python3"
    },
    "language_info": {
      "codemirror_mode": {
        "name": "ipython",
        "version": 3
      },
      "file_extension": ".py",
      "mimetype": "text/x-python",
      "name": "python",
      "nbconvert_exporter": "python",
      "pygments_lexer": "ipython3",
      "version": "3.7.4"
    },
    "colab": {
      "provenance": [],
      "include_colab_link": true
    }
  },
  "nbformat": 4,
  "nbformat_minor": 0
}