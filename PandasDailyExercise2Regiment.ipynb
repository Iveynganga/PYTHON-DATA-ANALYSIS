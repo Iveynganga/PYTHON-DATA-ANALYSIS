{
  "cells": [
    {
      "cell_type": "markdown",
      "metadata": {
        "id": "view-in-github",
        "colab_type": "text"
      },
      "source": [
        "<a href=\"https://colab.research.google.com/github/Iveynganga/PYTHON-DATA-ANALYSIS/blob/main/PandasDailyExercise2Regiment.ipynb\" target=\"_parent\"><img src=\"https://colab.research.google.com/assets/colab-badge.svg\" alt=\"Open In Colab\"/></a>"
      ]
    },
    {
      "cell_type": "markdown",
      "metadata": {
        "id": "Jz6zPizALrZd"
      },
      "source": [
        "# Regiment"
      ]
    },
    {
      "cell_type": "markdown",
      "metadata": {
        "id": "OaxptOc2LrZf"
      },
      "source": [
        "### Introduction:\n",
        "\n",
        "Special thanks to: http://chrisalbon.com/ for sharing the dataset and materials.\n",
        "\n",
        "### Step 1. Import the necessary libraries"
      ]
    },
    {
      "cell_type": "code",
      "execution_count": null,
      "metadata": {
        "id": "o_jznQOBLrZg"
      },
      "outputs": [],
      "source": [
        "import pandas as pd"
      ]
    },
    {
      "cell_type": "markdown",
      "metadata": {
        "id": "wkYnGTd0LrZg"
      },
      "source": [
        "### Step 2. Create the DataFrame with the following values:"
      ]
    },
    {
      "cell_type": "code",
      "execution_count": null,
      "metadata": {
        "collapsed": true,
        "id": "hAevIL-tLrZg"
      },
      "outputs": [],
      "source": [
        "raw_data = {'regiment': ['Nighthawks', 'Nighthawks', 'Nighthawks', 'Nighthawks', 'Dragoons', 'Dragoons', 'Dragoons', 'Dragoons', 'Scouts', 'Scouts', 'Scouts', 'Scouts'],\n",
        "        'company': ['1st', '1st', '2nd', '2nd', '1st', '1st', '2nd', '2nd','1st', '1st', '2nd', '2nd'],\n",
        "        'name': ['Miller', 'Jacobson', 'Ali', 'Milner', 'Cooze', 'Jacon', 'Ryaner', 'Sone', 'Sloan', 'Piger', 'Riani', 'Ali'],\n",
        "        'preTestScore': [4, 24, 31, 2, 3, 4, 24, 31, 2, 3, 2, 3],\n",
        "        'postTestScore': [25, 94, 57, 62, 70, 25, 94, 57, 62, 70, 62, 70]}"
      ]
    },
    {
      "cell_type": "code",
      "source": [
        "import pandas as pd\n",
        "\n",
        "raw_data = {'regiment': ['Nighthawks', 'Nighthawks', 'Nighthawks', 'Nighthawks', 'Dragoons', 'Dragoons', 'Dragoons', 'Dragoons', 'Scouts', 'Scouts', 'Scouts', 'Scouts'],\n",
        "            'company': ['1st', '1st', '2nd', '2nd', '1st', '1st', '2nd', '2nd', '1st', '1st', '2nd', '2nd'],\n",
        "            'name': ['Miller', 'Jacobson', 'Ali', 'Milner', 'Cooze', 'Jacon', 'Ryaner', 'Sone', 'Sloan', 'Piger', 'Riani', 'Ali'],\n",
        "            'preTestScore': [4, 24, 31, 2, 3, 4, 24, 31, 2, 3, 2, 3],\n",
        "            'postTestScore': [25, 94, 57, 62, 70, 25, 94, 57, 62, 70, 62, 70]}\n",
        "\n",
        "df = pd.DataFrame(raw_data)"
      ],
      "metadata": {
        "id": "g22Cb8MkMEIK"
      },
      "execution_count": null,
      "outputs": []
    },
    {
      "cell_type": "markdown",
      "metadata": {
        "id": "RVEUG31kLrZh"
      },
      "source": [
        "### Step 3. Assign it to a variable called regiment.\n",
        "#### Don't forget to name each column"
      ]
    },
    {
      "cell_type": "code",
      "execution_count": 1,
      "metadata": {
        "id": "ID7ONqPYLrZh"
      },
      "outputs": [],
      "source": [
        "import pandas as pd\n",
        "\n",
        "raw_data = {'regiment': ['Nighthawks', 'Nighthawks', 'Nighthawks', 'Nighthawks', 'Dragoons', 'Dragoons', 'Dragoons', 'Dragoons', 'Scouts', 'Scouts', 'Scouts', 'Scouts'],\n",
        "            'company': ['1st', '1st', '2nd', '2nd', '1st', '1st', '2nd', '2nd', '1st', '1st', '2nd', '2nd'],\n",
        "            'name': ['Miller', 'Jacobson', 'Ali', 'Milner', 'Cooze', 'Jacon', 'Ryaner', 'Sone', 'Sloan', 'Piger', 'Riani', 'Ali'],\n",
        "            'preTestScore': [4, 24, 31, 2, 3, 4, 24, 31, 2, 3, 2, 3],\n",
        "            'postTestScore': [25, 94, 57, 62, 70, 25, 94, 57, 62, 70, 62, 70]}\n",
        "\n",
        "regiment = pd.DataFrame(raw_data)"
      ]
    },
    {
      "cell_type": "markdown",
      "metadata": {
        "id": "Rfz8MNLdLrZh"
      },
      "source": [
        "### Step 4. What is the mean preTestScore from the regiment Nighthawks?  "
      ]
    },
    {
      "cell_type": "code",
      "execution_count": 2,
      "metadata": {
        "id": "6j_4B73mLrZh"
      },
      "outputs": [],
      "source": [
        "nighthawks_data = regiment[regiment['regiment'] == 'Nighthawks']\n",
        "\n",
        "mean_preTestScore_nighthawks = nighthawks_data['preTestScore'].mean()"
      ]
    },
    {
      "cell_type": "markdown",
      "metadata": {
        "id": "NF_eC4cHLrZi"
      },
      "source": [
        "### Step 5. Present general statistics by company"
      ]
    },
    {
      "cell_type": "code",
      "execution_count": 3,
      "metadata": {
        "id": "sg02a79nLrZi"
      },
      "outputs": [],
      "source": [
        "company_stats = regiment.groupby('company').describe()\n"
      ]
    },
    {
      "cell_type": "markdown",
      "metadata": {
        "id": "3k8ERekkLrZi"
      },
      "source": [
        "### Step 6. What is the mean of each company's preTestScore?"
      ]
    },
    {
      "cell_type": "code",
      "execution_count": 4,
      "metadata": {
        "id": "aBTRDz5pLrZi"
      },
      "outputs": [],
      "source": [
        "mean_preTestScore_by_company = regiment.groupby('company')['preTestScore'].mean()"
      ]
    },
    {
      "cell_type": "markdown",
      "metadata": {
        "id": "Rr8z-ThHLrZi"
      },
      "source": [
        "### Step 7. Present the mean preTestScores grouped by regiment and company"
      ]
    },
    {
      "cell_type": "code",
      "execution_count": 5,
      "metadata": {
        "id": "YdHk3yHDLrZi"
      },
      "outputs": [],
      "source": [
        "mean_preTestScore_by_regiment_company = regiment.groupby(['regiment', 'company'])['preTestScore'].mean()"
      ]
    },
    {
      "cell_type": "markdown",
      "metadata": {
        "id": "htPfImRGLrZi"
      },
      "source": [
        "### Step 8. Present the mean preTestScores grouped by regiment and company without heirarchical indexing"
      ]
    },
    {
      "cell_type": "code",
      "execution_count": 6,
      "metadata": {
        "id": "Zxl7c0LpLrZi"
      },
      "outputs": [],
      "source": [
        "mean_preTestScore_by_regiment_company = regiment.groupby(['regiment', 'company'])['preTestScore'].mean()\n",
        "\n",
        "mean_preTestScore_by_regiment_company = mean_preTestScore_by_regiment_company.reset_index()"
      ]
    },
    {
      "cell_type": "markdown",
      "metadata": {
        "id": "VDEU74r0LrZi"
      },
      "source": [
        "### Step 9. Group the entire dataframe by regiment and company"
      ]
    },
    {
      "cell_type": "code",
      "execution_count": 7,
      "metadata": {
        "id": "ohVXZtTiLrZj"
      },
      "outputs": [],
      "source": [
        "grouped_df = regiment.groupby(['regiment', 'company'])"
      ]
    },
    {
      "cell_type": "markdown",
      "metadata": {
        "id": "RPc0l06YLrZj"
      },
      "source": [
        "### Step 10. What is the number of observations in each regiment and company"
      ]
    },
    {
      "cell_type": "code",
      "execution_count": 8,
      "metadata": {
        "id": "7JMGtuwpLrZj"
      },
      "outputs": [],
      "source": [
        "observations_per_group = regiment.groupby(['regiment', 'company']).size()"
      ]
    },
    {
      "cell_type": "markdown",
      "metadata": {
        "id": "hdkofejRLrZj"
      },
      "source": [
        "### Step 11. Iterate over a group and print the name and the whole data from the regiment"
      ]
    },
    {
      "cell_type": "code",
      "execution_count": 9,
      "metadata": {
        "id": "Pi4ozX65LrZj"
      },
      "outputs": [],
      "source": [
        "grouped_regiments = regiment.groupby('regiment')"
      ]
    }
  ],
  "metadata": {
    "kernelspec": {
      "display_name": "Python 2",
      "language": "python",
      "name": "python2"
    },
    "language_info": {
      "codemirror_mode": {
        "name": "ipython",
        "version": 2
      },
      "file_extension": ".py",
      "mimetype": "text/x-python",
      "name": "python",
      "nbconvert_exporter": "python",
      "pygments_lexer": "ipython2",
      "version": "2.7.11"
    },
    "colab": {
      "provenance": [],
      "include_colab_link": true
    }
  },
  "nbformat": 4,
  "nbformat_minor": 0
}