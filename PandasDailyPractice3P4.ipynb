{
  "cells": [
    {
      "cell_type": "markdown",
      "metadata": {
        "id": "view-in-github",
        "colab_type": "text"
      },
      "source": [
        "<a href=\"https://colab.research.google.com/github/Iveynganga/PYTHON-DATA-ANALYSIS/blob/main/PandasDailyPractice3P4.ipynb\" target=\"_parent\"><img src=\"https://colab.research.google.com/assets/colab-badge.svg\" alt=\"Open In Colab\"/></a>"
      ]
    },
    {
      "cell_type": "markdown",
      "metadata": {
        "id": "iE4kczoMXJlZ"
      },
      "source": [
        "# Fictitious Names"
      ]
    },
    {
      "cell_type": "markdown",
      "metadata": {
        "id": "oNxsEcN8XJlc"
      },
      "source": [
        "### Introduction:\n",
        "\n",
        "This time you will create a data again\n",
        "\n",
        "Special thanks to [Chris Albon](http://chrisalbon.com/) for sharing the dataset and materials.\n",
        "All the credits to this exercise belongs to him.  \n",
        "\n",
        "In order to understand about it go [here](https://blog.codinghorror.com/a-visual-explanation-of-sql-joins/).\n",
        "\n",
        "### Step 1. Import the necessary libraries"
      ]
    },
    {
      "cell_type": "code",
      "execution_count": null,
      "metadata": {
        "id": "WQ-p_KR1XJlc"
      },
      "outputs": [],
      "source": [
        "import pandas as pd\n"
      ]
    },
    {
      "cell_type": "markdown",
      "metadata": {
        "id": "IO6EDr0mXJld"
      },
      "source": [
        "### Step 2. Create the 3 DataFrames based on the following raw data"
      ]
    },
    {
      "cell_type": "code",
      "execution_count": null,
      "metadata": {
        "collapsed": true,
        "id": "5j3O3C2DXJld"
      },
      "outputs": [],
      "source": [
        "raw_data_1 = {\n",
        "        'subject_id': ['1', '2', '3', '4', '5'],\n",
        "        'first_name': ['Alex', 'Amy', 'Allen', 'Alice', 'Ayoung'],\n",
        "        'last_name': ['Anderson', 'Ackerman', 'Ali', 'Aoni', 'Atiches']}\n",
        "\n",
        "raw_data_2 = {\n",
        "        'subject_id': ['4', '5', '6', '7', '8'],\n",
        "        'first_name': ['Billy', 'Brian', 'Bran', 'Bryce', 'Betty'],\n",
        "        'last_name': ['Bonder', 'Black', 'Balwner', 'Brice', 'Btisan']}\n",
        "\n",
        "raw_data_3 = {\n",
        "        'subject_id': ['1', '2', '3', '4', '5', '7', '8', '9', '10', '11'],\n",
        "        'test_id': [51, 15, 15, 61, 16, 14, 15, 1, 61, 16]}"
      ]
    },
    {
      "cell_type": "code",
      "source": [
        "import pandas as pd\n",
        "\n",
        "# Define raw data\n",
        "raw_data_1 = {\n",
        "    'subject_id': ['1', '2', '3', '4', '5'],\n",
        "    'first_name': ['Alex', 'Amy', 'Allen', 'Alice', 'Ayoung'],\n",
        "    'last_name': ['Anderson', 'Ackerman', 'Ali', 'Aoni', 'Atiches']\n",
        "}\n",
        "\n",
        "raw_data_2 = {\n",
        "    'subject_id': ['4', '5', '6', '7', '8'],\n",
        "    'first_name': ['Billy', 'Brian', 'Bran', 'Bryce', 'Betty'],\n",
        "    'last_name': ['Bonder', 'Black', 'Balwner', 'Brice', 'Btisan']\n",
        "}\n",
        "\n",
        "raw_data_3 = {\n",
        "    'subject_id': ['1', '2', '3', '4', '5', '7', '8', '9', '10', '11'],\n",
        "    'test_id': [51, 15, 15, 61, 16, 14, 15, 1, 61, 16]\n",
        "}\n",
        "\n",
        "# Create DataFrames\n",
        "df1 = pd.DataFrame(raw_data_1)\n",
        "df2 = pd.DataFrame(raw_data_2)\n",
        "df3 = pd.DataFrame(raw_data_3)"
      ],
      "metadata": {
        "id": "5_cjqnuKZUEE"
      },
      "execution_count": 1,
      "outputs": []
    },
    {
      "cell_type": "markdown",
      "metadata": {
        "id": "LIasyuogXJle"
      },
      "source": [
        "### Step 3. Assign each to a variable called data1, data2, data3"
      ]
    },
    {
      "cell_type": "code",
      "execution_count": null,
      "metadata": {
        "id": "QGIY-X3AXJle"
      },
      "outputs": [],
      "source": [
        "import pandas as pd\n",
        "\n",
        "raw_data_1 = {\n",
        "    'subject_id': ['1', '2', '3', '4', '5'],\n",
        "    'first_name': ['Alex', 'Amy', 'Allen', 'Alice', 'Ayoung'],\n",
        "    'last_name': ['Anderson', 'Ackerman', 'Ali', 'Aoni', 'Atiches']\n",
        "}\n",
        "\n",
        "raw_data_2 = {\n",
        "    'subject_id': ['4', '5', '6', '7', '8'],\n",
        "    'first_name': ['Billy', 'Brian', 'Bran', 'Bryce', 'Betty'],\n",
        "    'last_name': ['Bonder', 'Black', 'Balwner', 'Brice', 'Btisan']\n",
        "}\n",
        "\n",
        "raw_data_3 = {\n",
        "    'subject_id': ['1', '2', '3', '4', '5', '7', '8', '9', '10', '11'],\n",
        "    'test_id': [51, 15, 15, 61, 16, 14, 15, 1, 61, 16]\n",
        "}\n",
        "\n",
        "data1 = pd.DataFrame(raw_data_1)\n",
        "data2 = pd.DataFrame(raw_data_2)\n",
        "data3 = pd.DataFrame(raw_data_3)"
      ]
    },
    {
      "cell_type": "markdown",
      "metadata": {
        "id": "cYYGrhL-XJle"
      },
      "source": [
        "### Step 4. Join the two dataframes along rows and assign all_data"
      ]
    },
    {
      "cell_type": "code",
      "execution_count": null,
      "metadata": {
        "id": "kuaBBhRUXJle"
      },
      "outputs": [],
      "source": [
        "import pandas as pd\n",
        "\n",
        "data1 = pd.DataFrame({\n",
        "    'subject_id': ['1', '2', '3', '4', '5'],\n",
        "    'first_name': ['Alex', 'Amy', 'Allen', 'Alice', 'Ayoung'],\n",
        "    'last_name': ['Anderson', 'Ackerman', 'Ali', 'Aoni', 'Atiches']\n",
        "})\n",
        "\n",
        "data2 = pd.DataFrame({\n",
        "    'subject_id': ['4', '5', '6', '7', '8'],\n",
        "    'first_name': ['Billy', 'Brian', 'Bran', 'Bryce', 'Betty'],\n",
        "    'last_name': ['Bonder', 'Black', 'Balwner', 'Brice', 'Btisan']\n",
        "})\n",
        "\n",
        "all_data = pd.concat([data1, data2], ignore_index=True)"
      ]
    },
    {
      "cell_type": "markdown",
      "metadata": {
        "id": "BnfMytodXJle"
      },
      "source": [
        "### Step 5. Join the two dataframes along columns and assing to all_data_col"
      ]
    },
    {
      "cell_type": "code",
      "execution_count": 2,
      "metadata": {
        "id": "2g3RatlxXJlf"
      },
      "outputs": [],
      "source": [
        "import pandas as pd\n",
        "\n",
        "data1 = pd.DataFrame({\n",
        "    'subject_id': ['1', '2', '3', '4', '5'],\n",
        "    'first_name': ['Alex', 'Amy', 'Allen', 'Alice', 'Ayoung'],\n",
        "    'last_name': ['Anderson', 'Ackerman', 'Ali', 'Aoni', 'Atiches']\n",
        "})\n",
        "\n",
        "data2 = pd.DataFrame({\n",
        "    'subject_id': ['4', '5', '6', '7', '8'],\n",
        "    'first_name': ['Billy', 'Brian', 'Bran', 'Bryce', 'Betty'],\n",
        "    'last_name': ['Bonder', 'Black', 'Balwner', 'Brice', 'Btisan']\n",
        "})\n",
        "\n",
        "all_data_col = pd.concat([data1, data2], axis=1)"
      ]
    },
    {
      "cell_type": "markdown",
      "metadata": {
        "id": "rPFLFbotXJlf"
      },
      "source": [
        "### Step 6. Print data3"
      ]
    },
    {
      "cell_type": "code",
      "execution_count": 3,
      "metadata": {
        "id": "HcIXGKdRXJlf"
      },
      "outputs": [],
      "source": [
        "import pandas as pd\n",
        "\n",
        "# Define data3\n",
        "data3 = pd.DataFrame({\n",
        "    'subject_id': ['1', '2', '3', '4', '5', '7', '8', '9', '10', '11'],\n",
        "    'test_id': [51, 15, 15, 61, 16, 14, 15, 1, 61, 16]\n",
        "})\n"
      ]
    },
    {
      "cell_type": "markdown",
      "metadata": {
        "id": "i2Ho-w5-XJlf"
      },
      "source": [
        "### Step 7. Merge all_data and data3 along the subject_id value"
      ]
    },
    {
      "cell_type": "code",
      "execution_count": 4,
      "metadata": {
        "id": "BOyVYQ8nXJlf"
      },
      "outputs": [],
      "source": [
        "import pandas as pd\n",
        "\n",
        "all_data = pd.concat([data1, data2], ignore_index=True)\n",
        "\n",
        "data3 = pd.DataFrame({\n",
        "    'subject_id': ['1', '2', '3', '4', '5', '7', '8', '9', '10', '11'],\n",
        "    'test_id': [51, 15, 15, 61, 16, 14, 15, 1, 61, 16]\n",
        "})\n",
        "\n",
        "merged_data = pd.merge(all_data, data3, on='subject_id')"
      ]
    },
    {
      "cell_type": "markdown",
      "metadata": {
        "id": "XwcSOl-GXJlf"
      },
      "source": [
        "### Step 8. Merge only the data that has the same 'subject_id' on both data1 and data2"
      ]
    },
    {
      "cell_type": "code",
      "execution_count": 5,
      "metadata": {
        "id": "napR7d2MXJlf"
      },
      "outputs": [],
      "source": [
        "import pandas as pd\n",
        "\n",
        "data1 = pd.DataFrame({\n",
        "    'subject_id': ['1', '2', '3', '4', '5'],\n",
        "    'first_name': ['Alex', 'Amy', 'Allen', 'Alice', 'Ayoung'],\n",
        "    'last_name': ['Anderson', 'Ackerman', 'Ali', 'Aoni', 'Atiches']\n",
        "})\n",
        "\n",
        "data2 = pd.DataFrame({\n",
        "    'subject_id': ['4', '5', '6', '7', '8'],\n",
        "    'first_name': ['Billy', 'Brian', 'Bran', 'Bryce', 'Betty'],\n",
        "    'last_name': ['Bonder', 'Black', 'Balwner', 'Brice', 'Btisan']\n",
        "})\n",
        "\n",
        "merged_data_inner = pd.merge(data1, data2, on='subject_id', suffixes=('_data1', '_data2'))"
      ]
    },
    {
      "cell_type": "markdown",
      "metadata": {
        "id": "8eJOwghtXJlf"
      },
      "source": [
        "### Step 9. Merge all values in data1 and data2, with matching records from both sides where available."
      ]
    },
    {
      "cell_type": "code",
      "execution_count": 6,
      "metadata": {
        "id": "LJrLMCc5XJlg"
      },
      "outputs": [],
      "source": [
        "import pandas as pd\n",
        "\n",
        "data1 = pd.DataFrame({\n",
        "    'subject_id': ['1', '2', '3', '4', '5'],\n",
        "    'first_name': ['Alex', 'Amy', 'Allen', 'Alice', 'Ayoung'],\n",
        "    'last_name': ['Anderson', 'Ackerman', 'Ali', 'Aoni', 'Atiches']\n",
        "})\n",
        "\n",
        "data2 = pd.DataFrame({\n",
        "    'subject_id': ['4', '5', '6', '7', '8'],\n",
        "    'first_name': ['Billy', 'Brian', 'Bran', 'Bryce', 'Betty'],\n",
        "    'last_name': ['Bonder', 'Black', 'Balwner', 'Brice', 'Btisan']\n",
        "})\n",
        "\n",
        "merged_data_outer = pd.merge(data1, data2, on='subject_id', how='outer', suffixes=('_data1', '_data2'))"
      ]
    }
  ],
  "metadata": {
    "kernelspec": {
      "display_name": "Python 2",
      "language": "python",
      "name": "python2"
    },
    "language_info": {
      "codemirror_mode": {
        "name": "ipython",
        "version": 2
      },
      "file_extension": ".py",
      "mimetype": "text/x-python",
      "name": "python",
      "nbconvert_exporter": "python",
      "pygments_lexer": "ipython2",
      "version": "2.7.11"
    },
    "colab": {
      "provenance": [],
      "include_colab_link": true
    }
  },
  "nbformat": 4,
  "nbformat_minor": 0
}