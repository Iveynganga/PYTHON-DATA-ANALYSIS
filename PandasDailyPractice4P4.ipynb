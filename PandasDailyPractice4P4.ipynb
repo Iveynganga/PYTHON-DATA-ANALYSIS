{
  "cells": [
    {
      "cell_type": "markdown",
      "metadata": {
        "id": "view-in-github",
        "colab_type": "text"
      },
      "source": [
        "<a href=\"https://colab.research.google.com/github/Iveynganga/PYTHON-DATA-ANALYSIS/blob/main/PandasDailyPractice4P4.ipynb\" target=\"_parent\"><img src=\"https://colab.research.google.com/assets/colab-badge.svg\" alt=\"Open In Colab\"/></a>"
      ]
    },
    {
      "cell_type": "markdown",
      "metadata": {
        "id": "K52Y6pvumHNG"
      },
      "source": [
        "# US - Baby Names"
      ]
    },
    {
      "cell_type": "markdown",
      "metadata": {
        "id": "u0RU5NpBmHNI"
      },
      "source": [
        "### Introduction:\n",
        "\n",
        "We are going to use a subset of [US Baby Names](https://www.kaggle.com/kaggle/us-baby-names) from Kaggle.  \n",
        "In the file it will be names from 2004 until 2014\n",
        "\n",
        "\n",
        "### Step 1. Import the necessary libraries"
      ]
    },
    {
      "cell_type": "code",
      "execution_count": null,
      "metadata": {
        "id": "TcLyhjf9mHNJ"
      },
      "outputs": [],
      "source": [
        "import pandas as pd"
      ]
    },
    {
      "cell_type": "markdown",
      "metadata": {
        "id": "1Phsj4TBmHNJ"
      },
      "source": [
        "### Step 2. Import the dataset from this [address](https://raw.githubusercontent.com/guipsamora/pandas_exercises/master/06_Stats/US_Baby_Names/US_Baby_Names_right.csv)."
      ]
    },
    {
      "cell_type": "code",
      "source": [
        "import pandas as pd\n",
        "\n",
        "url = \"https://raw.githubusercontent.com/guipsamora/pandas_exercises/master/06_Stats/US_Baby_Names/US_Baby_Names_right.csv\"\n",
        "\n",
        "baby_names = pd.read_csv(url)"
      ],
      "metadata": {
        "id": "KyTVSddJmd4a"
      },
      "execution_count": 1,
      "outputs": []
    },
    {
      "cell_type": "markdown",
      "metadata": {
        "id": "HkELjuuumHNJ"
      },
      "source": [
        "### Step 3. Assign it to a variable called baby_names."
      ]
    },
    {
      "cell_type": "code",
      "execution_count": 2,
      "metadata": {
        "id": "2mzd5F4gmHNJ"
      },
      "outputs": [],
      "source": [
        "import pandas as pd\n",
        "\n",
        "url = \"https://raw.githubusercontent.com/guipsamora/pandas_exercises/master/06_Stats/US_Baby_Names/US_Baby_Names_right.csv\"\n",
        "\n",
        "baby_names = pd.read_csv(url)"
      ]
    },
    {
      "cell_type": "markdown",
      "metadata": {
        "id": "-0sqOkxsmHNJ"
      },
      "source": [
        "### Step 4. See the first 10 entries"
      ]
    },
    {
      "cell_type": "code",
      "execution_count": null,
      "metadata": {
        "id": "9v6pduuAmHNK"
      },
      "outputs": [],
      "source": [
        "print(baby_names.head(10))"
      ]
    },
    {
      "cell_type": "markdown",
      "metadata": {
        "id": "jTVsuPA4mHNK"
      },
      "source": [
        "### Step 5. Delete the column 'Unnamed: 0' and 'Id'"
      ]
    },
    {
      "cell_type": "code",
      "execution_count": null,
      "metadata": {
        "id": "2itjyJvHmHNK"
      },
      "outputs": [],
      "source": [
        "baby_names.drop(['Unnamed: 0', 'Id'], axis=1, inplace=True)"
      ]
    },
    {
      "cell_type": "markdown",
      "metadata": {
        "id": "Q7P02ti-mHNK"
      },
      "source": [
        "### Step 6. Is there more male or female names in the dataset?"
      ]
    },
    {
      "cell_type": "code",
      "execution_count": 3,
      "metadata": {
        "id": "xZQEmv3bmHNK"
      },
      "outputs": [],
      "source": [
        "gender_counts = baby_names['Gender'].value_counts()"
      ]
    },
    {
      "cell_type": "markdown",
      "metadata": {
        "id": "9iR598vmmHNK"
      },
      "source": [
        "### Step 7. Group the dataset by name and assign to names"
      ]
    },
    {
      "cell_type": "code",
      "execution_count": 4,
      "metadata": {
        "id": "5NjrRNB0mHNK"
      },
      "outputs": [],
      "source": [
        "names = baby_names.groupby('Name').sum()\n"
      ]
    },
    {
      "cell_type": "markdown",
      "metadata": {
        "id": "E9sJkIbKmHNK"
      },
      "source": [
        "### Step 8. How many different names exist in the dataset?"
      ]
    },
    {
      "cell_type": "code",
      "execution_count": null,
      "metadata": {
        "id": "wRbQjU36mHNK"
      },
      "outputs": [],
      "source": [
        "num_unique_names = baby_names['Name'].nunique()"
      ]
    },
    {
      "cell_type": "markdown",
      "metadata": {
        "id": "eVfn7um_mHNK"
      },
      "source": [
        "### Step 9. What is the name with most occurrences?"
      ]
    },
    {
      "cell_type": "code",
      "execution_count": null,
      "metadata": {
        "id": "jbTd5HNcmHNK"
      },
      "outputs": [],
      "source": [
        "most_common_name = baby_names['Name'].value_counts().idxmax()"
      ]
    },
    {
      "cell_type": "markdown",
      "metadata": {
        "id": "QfQCoSa3mHNL"
      },
      "source": [
        "### Step 10. How many different names have the least occurrences?"
      ]
    },
    {
      "cell_type": "code",
      "execution_count": 5,
      "metadata": {
        "id": "BFlBISNJmHNL"
      },
      "outputs": [],
      "source": [
        "name_counts = baby_names['Name'].value_counts()\n",
        "\n",
        "min_count = name_counts.min()\n",
        "\n",
        "names_with_min_count = name_counts[name_counts == min_count]\n",
        "\n",
        "num_names_with_min_count = len(names_with_min_count)\n"
      ]
    },
    {
      "cell_type": "markdown",
      "metadata": {
        "id": "x9V4BFzomHNL"
      },
      "source": [
        "### Step 11. What is the median name occurrence?"
      ]
    },
    {
      "cell_type": "code",
      "execution_count": null,
      "metadata": {
        "id": "559p9F1SmHNL"
      },
      "outputs": [],
      "source": [
        "name_counts = baby_names['Name'].value_counts()\n",
        "\n",
        "median_name_occurrence = name_counts.median()"
      ]
    },
    {
      "cell_type": "markdown",
      "metadata": {
        "id": "XrWcmDsImHNL"
      },
      "source": [
        "### Step 12. What is the standard deviation of names?"
      ]
    },
    {
      "cell_type": "code",
      "execution_count": 6,
      "metadata": {
        "id": "1U6nRCatmHNL"
      },
      "outputs": [],
      "source": [
        "name_counts = baby_names['Name'].value_counts()\n",
        "\n",
        "std_dev_name_occurrence = name_counts.std()"
      ]
    },
    {
      "cell_type": "markdown",
      "metadata": {
        "id": "VVm0fvuymHNL"
      },
      "source": [
        "### Step 13. Get a summary with the mean, min, max, std and quartiles."
      ]
    },
    {
      "cell_type": "code",
      "execution_count": 7,
      "metadata": {
        "id": "Dl3656sumHNL"
      },
      "outputs": [],
      "source": [
        "name_counts = baby_names['Name'].value_counts()\n",
        "\n",
        "summary_stats = name_counts.describe()"
      ]
    }
  ],
  "metadata": {
    "anaconda-cloud": {},
    "kernelspec": {
      "display_name": "Python [default]",
      "language": "python",
      "name": "python2"
    },
    "language_info": {
      "codemirror_mode": {
        "name": "ipython",
        "version": 2
      },
      "file_extension": ".py",
      "mimetype": "text/x-python",
      "name": "python",
      "nbconvert_exporter": "python",
      "pygments_lexer": "ipython2",
      "version": "2.7.11"
    },
    "colab": {
      "provenance": [],
      "include_colab_link": true
    }
  },
  "nbformat": 4,
  "nbformat_minor": 0
}