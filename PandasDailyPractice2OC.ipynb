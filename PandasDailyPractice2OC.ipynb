{
  "cells": [
    {
      "cell_type": "markdown",
      "metadata": {
        "id": "view-in-github",
        "colab_type": "text"
      },
      "source": [
        "<a href=\"https://colab.research.google.com/github/Iveynganga/PYTHON-DATA-ANALYSIS/blob/main/PandasDailyPractice2OC.ipynb\" target=\"_parent\"><img src=\"https://colab.research.google.com/assets/colab-badge.svg\" alt=\"Open In Colab\"/></a>"
      ]
    },
    {
      "cell_type": "markdown",
      "metadata": {
        "id": "2CkTqmjKGiVG"
      },
      "source": [
        "# Occupation"
      ]
    },
    {
      "cell_type": "markdown",
      "metadata": {
        "id": "92JrasEAGiVI"
      },
      "source": [
        "### Introduction:\n",
        "\n",
        "Special thanks to: https://github.com/justmarkham for sharing the dataset and materials.\n",
        "\n",
        "### Step 1. Import the necessary libraries"
      ]
    },
    {
      "cell_type": "code",
      "execution_count": null,
      "metadata": {
        "id": "Y-kH3UfLGiVJ"
      },
      "outputs": [],
      "source": [
        "import pandas as pd"
      ]
    },
    {
      "cell_type": "markdown",
      "metadata": {
        "id": "RRQ71NqqGiVJ"
      },
      "source": [
        "### Step 2. Import the dataset from this [address](https://raw.githubusercontent.com/justmarkham/DAT8/master/data/u.user)."
      ]
    },
    {
      "cell_type": "code",
      "source": [
        "import pandas as pd\n",
        "\n",
        "url = \"https://raw.githubusercontent.com/justmarkham/DAT8/master/data/u.user\"\n",
        "user_data = pd.read_csv(url, delimiter='|')"
      ],
      "metadata": {
        "id": "iUEssN10Gs5y"
      },
      "execution_count": 1,
      "outputs": []
    },
    {
      "cell_type": "markdown",
      "metadata": {
        "id": "hG63ZQhFGiVK"
      },
      "source": [
        "### Step 3. Assign it to a variable called users."
      ]
    },
    {
      "cell_type": "code",
      "execution_count": 2,
      "metadata": {
        "id": "WkP411CGGiVK"
      },
      "outputs": [],
      "source": [
        "import pandas as pd\n",
        "\n",
        "url = \"https://raw.githubusercontent.com/justmarkham/DAT8/master/data/u.user\"\n",
        "users = pd.read_csv(url, delimiter='|')"
      ]
    },
    {
      "cell_type": "markdown",
      "metadata": {
        "id": "LEd6cNgWGiVK"
      },
      "source": [
        "### Step 4. Discover what is the mean age per occupation"
      ]
    },
    {
      "cell_type": "code",
      "execution_count": 3,
      "metadata": {
        "id": "fIU89w41GiVK"
      },
      "outputs": [],
      "source": [
        "import pandas as pd\n",
        "\n",
        "url = \"https://raw.githubusercontent.com/justmarkham/DAT8/master/data/u.user\"\n",
        "users = pd.read_csv(url, delimiter='|')\n",
        "\n",
        "mean_age_per_occupation = users.groupby('occupation')['age'].mean()"
      ]
    },
    {
      "cell_type": "markdown",
      "metadata": {
        "id": "LUXmM4eRGiVK"
      },
      "source": [
        "### Step 5. Discover the Male ratio per occupation and sort it from the most to the least"
      ]
    },
    {
      "cell_type": "code",
      "execution_count": 4,
      "metadata": {
        "id": "SN7cKS3yGiVK"
      },
      "outputs": [],
      "source": [
        "import pandas as pd\n",
        "\n",
        "url = \"https://raw.githubusercontent.com/justmarkham/DAT8/master/data/u.user\"\n",
        "users = pd.read_csv(url, delimiter='|')\n",
        "\n",
        "users['is_male'] = (users['gender'] == 'M').astype(int)\n",
        "\n",
        "male_ratio_per_occupation = users.groupby('occupation')['is_male'].mean()\n",
        "\n",
        "male_ratio_per_occupation_sorted = male_ratio_per_occupation.sort_values(ascending=False)"
      ]
    },
    {
      "cell_type": "markdown",
      "metadata": {
        "id": "xeYOaNK-GiVK"
      },
      "source": [
        "### Step 6. For each occupation, calculate the minimum and maximum ages"
      ]
    },
    {
      "cell_type": "code",
      "execution_count": 5,
      "metadata": {
        "id": "CtjNWsjPGiVK"
      },
      "outputs": [],
      "source": [
        "import pandas as pd\n",
        "\n",
        "url = \"https://raw.githubusercontent.com/justmarkham/DAT8/master/data/u.user\"\n",
        "users = pd.read_csv(url, delimiter='|')\n",
        "\n",
        "age_stats_per_occupation = users.groupby('occupation')['age'].agg(['min', 'max'])"
      ]
    },
    {
      "cell_type": "markdown",
      "metadata": {
        "id": "dmuYzITRGiVK"
      },
      "source": [
        "### Step 7. For each combination of occupation and gender, calculate the mean age"
      ]
    },
    {
      "cell_type": "code",
      "execution_count": 6,
      "metadata": {
        "id": "ZGaI9PYaGiVK"
      },
      "outputs": [],
      "source": [
        "import pandas as pd\n",
        "\n",
        "url = \"https://raw.githubusercontent.com/justmarkham/DAT8/master/data/u.user\"\n",
        "users = pd.read_csv(url, delimiter='|')\n",
        "\n",
        "mean_age_per_occupation_gender = users.groupby(['occupation', 'gender'])['age'].mean()"
      ]
    },
    {
      "cell_type": "markdown",
      "metadata": {
        "id": "1g04-xJfGiVK"
      },
      "source": [
        "### Step 8.  For each occupation present the percentage of women and men"
      ]
    },
    {
      "cell_type": "code",
      "execution_count": 7,
      "metadata": {
        "id": "Hgao1Kn_GiVL"
      },
      "outputs": [],
      "source": [
        "import pandas as pd\n",
        "\n",
        "url = \"https://raw.githubusercontent.com/justmarkham/DAT8/master/data/u.user\"\n",
        "users = pd.read_csv(url, delimiter='|')\n",
        "\n",
        "gender_counts_per_occupation = users.groupby('occupation')['gender'].value_counts()\n",
        "\n",
        "total_counts_per_occupation = users.groupby('occupation')['gender'].count()\n",
        "\n",
        "percentage_gender_per_occupation = (gender_counts_per_occupation / total_counts_per_occupation * 100).unstack()"
      ]
    }
  ],
  "metadata": {
    "kernelspec": {
      "display_name": "Python 2",
      "language": "python",
      "name": "python2"
    },
    "language_info": {
      "codemirror_mode": {
        "name": "ipython",
        "version": 2
      },
      "file_extension": ".py",
      "mimetype": "text/x-python",
      "name": "python",
      "nbconvert_exporter": "python",
      "pygments_lexer": "ipython2",
      "version": "2.7.11"
    },
    "colab": {
      "provenance": [],
      "include_colab_link": true
    }
  },
  "nbformat": 4,
  "nbformat_minor": 0
}