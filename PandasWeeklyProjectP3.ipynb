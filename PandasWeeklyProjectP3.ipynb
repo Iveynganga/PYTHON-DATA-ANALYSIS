{
  "cells": [
    {
      "cell_type": "markdown",
      "metadata": {
        "id": "view-in-github",
        "colab_type": "text"
      },
      "source": [
        "<a href=\"https://colab.research.google.com/github/Iveynganga/PYTHON-DATA-ANALYSIS/blob/main/PandasWeeklyProjectP3.ipynb\" target=\"_parent\"><img src=\"https://colab.research.google.com/assets/colab-badge.svg\" alt=\"Open In Colab\"/></a>"
      ]
    },
    {
      "cell_type": "markdown",
      "metadata": {
        "id": "yuMeo3LmBJAQ"
      },
      "source": [
        "# Investor - Flow of Funds - US"
      ]
    },
    {
      "cell_type": "markdown",
      "metadata": {
        "id": "TGgnU2_LBJAT"
      },
      "source": [
        "### Introduction:\n",
        "\n",
        "Special thanks to: https://github.com/rgrp for sharing the dataset.\n",
        "\n",
        "### Step 1. Import the necessary libraries"
      ]
    },
    {
      "cell_type": "code",
      "execution_count": null,
      "metadata": {
        "id": "kTELLilCBJAT"
      },
      "outputs": [],
      "source": [
        "import pandas as pd"
      ]
    },
    {
      "cell_type": "markdown",
      "metadata": {
        "id": "DdH0L3NVBJAU"
      },
      "source": [
        "### Step 2. Import the dataset from this [address](https://raw.githubusercontent.com/datasets/investor-flow-of-funds-us/master/data/weekly.csv)."
      ]
    },
    {
      "cell_type": "code",
      "source": [
        "import pandas as pd\n",
        "\n",
        "url = \"https://raw.githubusercontent.com/datasets/investor-flow-of-funds-us/master/data/weekly.csv\"\n",
        "df = pd.read_csv(url)"
      ],
      "metadata": {
        "id": "VKoMD7T4BWgj"
      },
      "execution_count": null,
      "outputs": []
    },
    {
      "cell_type": "markdown",
      "metadata": {
        "id": "LgmnCHguBJAU"
      },
      "source": [
        "### Step 3. Assign it to a variable called"
      ]
    },
    {
      "cell_type": "code",
      "execution_count": 14,
      "metadata": {
        "id": "VGLRidlIBJAU"
      },
      "outputs": [],
      "source": [
        "import pandas as pd\n",
        "\n",
        "funds = pd.read_csv(\"https://raw.githubusercontent.com/datasets/investor-flow-of-funds-us/master/data/weekly.csv\")"
      ]
    },
    {
      "cell_type": "markdown",
      "metadata": {
        "id": "28riQF5HBJAU"
      },
      "source": [
        "### Step 4.  What is the frequency of the dataset?"
      ]
    },
    {
      "cell_type": "code",
      "execution_count": null,
      "metadata": {
        "id": "5QP57I9WBJAV"
      },
      "outputs": [],
      "source": [
        "print(funds.info())\n",
        "\n",
        "print(funds.head())"
      ]
    },
    {
      "cell_type": "markdown",
      "metadata": {
        "id": "_aRRRrVUBJAV"
      },
      "source": [
        "### Step 5. Set the column Date as the index."
      ]
    },
    {
      "cell_type": "code",
      "execution_count": 17,
      "metadata": {
        "id": "0c6mGBITBJAV"
      },
      "outputs": [],
      "source": [
        "funds.set_index('Date', inplace=True)"
      ]
    },
    {
      "cell_type": "markdown",
      "metadata": {
        "id": "1srsniSZBJAV"
      },
      "source": [
        "### Step 6. What is the type of the index?"
      ]
    },
    {
      "cell_type": "code",
      "execution_count": 18,
      "metadata": {
        "id": "ttiELxuMBJAV"
      },
      "outputs": [],
      "source": [
        "index_type = funds.index"
      ]
    },
    {
      "cell_type": "markdown",
      "metadata": {
        "id": "3i9WtmQNBJAV"
      },
      "source": [
        "### Step 7. Set the index to a DatetimeIndex type"
      ]
    },
    {
      "cell_type": "code",
      "execution_count": 22,
      "metadata": {
        "id": "eH98rm1wBJAW"
      },
      "outputs": [],
      "source": [
        "import pandas as pd\n",
        "\n",
        "# Load the dataset\n",
        "funds = pd.read_csv(\"https://raw.githubusercontent.com/datasets/investor-flow-of-funds-us/master/data/weekly.csv\")\n"
      ]
    },
    {
      "cell_type": "markdown",
      "metadata": {
        "id": "UQMYMvKaBJAW"
      },
      "source": [
        "### Step 8.  Change the frequency to monthly, sum the values and assign it to monthly."
      ]
    },
    {
      "cell_type": "code",
      "execution_count": 23,
      "metadata": {
        "id": "Z0SXXp9gBJAW"
      },
      "outputs": [],
      "source": [
        "import pandas as pd\n",
        "\n",
        "funds = pd.read_csv(\"https://raw.githubusercontent.com/datasets/investor-flow-of-funds-us/master/data/weekly.csv\")\n",
        "\n",
        "funds['Date'] = pd.to_datetime(funds['Date'])\n",
        "funds.set_index('Date', inplace=True)\n",
        "\n",
        "monthly = funds.resample('M').sum()\n"
      ]
    },
    {
      "cell_type": "markdown",
      "metadata": {
        "id": "vusQGIWwBJAW"
      },
      "source": [
        "### Step 9. You will notice that it filled the dataFrame with months that don't have any data with NaN. Let's drop these rows."
      ]
    },
    {
      "cell_type": "code",
      "execution_count": null,
      "metadata": {
        "id": "EVSyRIT0BJAW"
      },
      "outputs": [],
      "source": [
        "monthly.dropna(inplace=True)"
      ]
    },
    {
      "cell_type": "markdown",
      "metadata": {
        "id": "y4qiuF8sBJAW"
      },
      "source": [
        "### Step 10. Good, now we have the monthly data. Now change the frequency to year."
      ]
    },
    {
      "cell_type": "code",
      "execution_count": 24,
      "metadata": {
        "id": "VuZ8iwqSBJAX"
      },
      "outputs": [],
      "source": [
        "yearly = monthly.resample('Y').sum()\n"
      ]
    },
    {
      "cell_type": "markdown",
      "metadata": {
        "id": "XK5xeTOvBJAX"
      },
      "source": [
        "### BONUS: Create your own question and answer it."
      ]
    },
    {
      "cell_type": "code",
      "execution_count": null,
      "metadata": {
        "collapsed": true,
        "id": "1HD1IsjzBJAX"
      },
      "outputs": [],
      "source": []
    },
    {
      "cell_type": "markdown",
      "source": [
        "How can you check for missing values in a DataFrame and handle them?"
      ],
      "metadata": {
        "id": "VbFz32hMFemb"
      }
    },
    {
      "cell_type": "code",
      "source": [
        "import pandas as pd\n",
        "\n",
        "data = {'A': [1, 2, None, 4],\n",
        "        'B': [5, None, 7, 8],\n",
        "        'C': [None, None, None, None]}\n",
        "df = pd.DataFrame(data)\n",
        "\n",
        "print(df.isnull())\n",
        "\n",
        "print(df.isnull().sum())\n",
        "\n",
        "print(df.isnull().any().any())"
      ],
      "metadata": {
        "id": "2QhTQj6oFfmJ"
      },
      "execution_count": null,
      "outputs": []
    }
  ],
  "metadata": {
    "kernelspec": {
      "display_name": "Python 2",
      "language": "python",
      "name": "python2"
    },
    "language_info": {
      "codemirror_mode": {
        "name": "ipython",
        "version": 2
      },
      "file_extension": ".py",
      "mimetype": "text/x-python",
      "name": "python",
      "nbconvert_exporter": "python",
      "pygments_lexer": "ipython2",
      "version": "2.7.11"
    },
    "colab": {
      "provenance": [],
      "include_colab_link": true
    }
  },
  "nbformat": 4,
  "nbformat_minor": 0
}