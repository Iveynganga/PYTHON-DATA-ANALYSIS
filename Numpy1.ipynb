{
  "cells": [
    {
      "cell_type": "markdown",
      "metadata": {
        "id": "view-in-github",
        "colab_type": "text"
      },
      "source": [
        "<a href=\"https://colab.research.google.com/github/Iveynganga/PYTHON-DATA-ANALYSIS/blob/main/Numpy1.ipynb\" target=\"_parent\"><img src=\"https://colab.research.google.com/assets/colab-badge.svg\" alt=\"Open In Colab\"/></a>"
      ]
    },
    {
      "cell_type": "markdown",
      "metadata": {
        "id": "3XRa4NLQGeDH"
      },
      "source": [
        "# Numpy Exercise 1\n",
        "\n",
        "### All of the questions in this exercise are attributed to rougier/numpy-100"
      ]
    },
    {
      "cell_type": "code",
      "execution_count": null,
      "metadata": {
        "id": "kf9VewvdGeDL"
      },
      "outputs": [],
      "source": []
    },
    {
      "cell_type": "markdown",
      "metadata": {
        "id": "XUdpm2YEGeDM"
      },
      "source": [
        "#### 1. Import the numpy package under the name `np` (★☆☆)"
      ]
    },
    {
      "cell_type": "code",
      "execution_count": null,
      "metadata": {
        "id": "SFcrAgb1GeDM"
      },
      "outputs": [],
      "source": [
        "import numpy as np"
      ]
    },
    {
      "cell_type": "markdown",
      "metadata": {
        "id": "DnNjvZcRGeDN"
      },
      "source": [
        "#### 2. Print the numpy version and the configuration (★☆☆)"
      ]
    },
    {
      "cell_type": "code",
      "execution_count": null,
      "metadata": {
        "id": "Fj3s51V5GeDN"
      },
      "outputs": [],
      "source": [
        "np.__version__\n",
        "\n",
        "'1.13.3'"
      ]
    },
    {
      "cell_type": "markdown",
      "metadata": {
        "id": "e9jku6GoGeDO"
      },
      "source": [
        "#### 3. Create a null vector of size 10 (★☆☆)"
      ]
    },
    {
      "cell_type": "code",
      "execution_count": null,
      "metadata": {
        "id": "SwTrp2BPGeDO"
      },
      "outputs": [],
      "source": [
        "\n",
        "a = np.zeros(10)"
      ]
    },
    {
      "cell_type": "markdown",
      "metadata": {
        "id": "Vl_AACG5GeDO"
      },
      "source": [
        "#### 4. How to find the memory size of any array (★☆☆)"
      ]
    },
    {
      "cell_type": "code",
      "execution_count": null,
      "metadata": {
        "id": "OsnEuyE_GeDP"
      },
      "outputs": [],
      "source": [
        "x.nbytes\n",
        "\n",
        "80\n"
      ]
    },
    {
      "cell_type": "markdown",
      "metadata": {
        "id": "MX4cH6E5GeDP"
      },
      "source": [
        "#### 5. How to get the documentation of the numpy add function from the command line? (★☆☆)"
      ]
    },
    {
      "cell_type": "code",
      "execution_count": null,
      "metadata": {
        "id": "lhmOcYqZGeDP"
      },
      "outputs": [],
      "source": [
        "pydoc numpy.add"
      ]
    },
    {
      "cell_type": "markdown",
      "metadata": {
        "id": "saM-Q8WcGeDP"
      },
      "source": [
        "#### 6. Create a null vector of size 10 but the fifth value which is 1 (★☆☆)"
      ]
    },
    {
      "cell_type": "code",
      "execution_count": null,
      "metadata": {
        "id": "vvqlfUHOGeDP"
      },
      "outputs": [],
      "source": [
        "b = np.zeros(10)\n",
        "b[4] = 1\n"
      ]
    },
    {
      "cell_type": "markdown",
      "metadata": {
        "id": "-luyW-KlGeDQ"
      },
      "source": [
        "#### 7. Create a vector with values ranging from 10 to 49 (★☆☆)"
      ]
    },
    {
      "cell_type": "code",
      "execution_count": null,
      "metadata": {
        "id": "LJbirFIUGeDQ"
      },
      "outputs": [],
      "source": [
        "c = np.arrange(10, 50)"
      ]
    },
    {
      "cell_type": "markdown",
      "metadata": {
        "id": "JI7NQhQvGeDQ"
      },
      "source": [
        "#### 8. Reverse a vector (first element becomes last) (★☆☆)"
      ]
    },
    {
      "cell_type": "code",
      "execution_count": null,
      "metadata": {
        "id": "xrt0PDuuGeDQ"
      },
      "outputs": [],
      "source": [
        "#sample vector\n",
        "vector = np.array([1, 2, 3, 4, 5])\n",
        "reversed_vector = vector[::-1]"
      ]
    },
    {
      "cell_type": "markdown",
      "metadata": {
        "id": "8osFQFvEGeDQ"
      },
      "source": [
        "#### 9. Create a 3x3 matrix with values ranging from 0 to 8 (★☆☆)"
      ]
    },
    {
      "cell_type": "code",
      "execution_count": null,
      "metadata": {
        "id": "CeAOc_MtGeDR"
      },
      "outputs": [],
      "source": [
        "values = np.arange(9)\n",
        "matrix = values.reshape(3, 3)\n",
        "print(matrix)"
      ]
    },
    {
      "cell_type": "markdown",
      "metadata": {
        "id": "Ah3qutyGGeDR"
      },
      "source": [
        "#### 10. Find indices of non-zero elements from [1,2,0,0,4,0] (★☆☆)"
      ]
    },
    {
      "cell_type": "code",
      "execution_count": null,
      "metadata": {
        "id": "8XJyZ8P3GeDR"
      },
      "outputs": [],
      "source": [
        "list  = [1,2,0,0,4,0]\n",
        "arr = np.array(list)\n",
        "nonzero_indices = np.nonzero(arr)"
      ]
    },
    {
      "cell_type": "markdown",
      "metadata": {
        "id": "DIfhzf8_GeDR"
      },
      "source": [
        "#### 11. Create a 3x3 identity matrix (★☆☆)"
      ]
    },
    {
      "cell_type": "code",
      "execution_count": null,
      "metadata": {
        "id": "d1xspOi_GeDR"
      },
      "outputs": [],
      "source": [
        "identity_matrix = np.eye(3)\n"
      ]
    },
    {
      "cell_type": "markdown",
      "metadata": {
        "id": "OLhymfWZGeDR"
      },
      "source": [
        "#### 12. Create a 3x3x3 array with random values (★☆☆)"
      ]
    },
    {
      "cell_type": "code",
      "execution_count": null,
      "metadata": {
        "id": "zcK9fpmMGeDR"
      },
      "outputs": [],
      "source": [
        "random_array = np.random.rand(3, 3, 3)\n"
      ]
    },
    {
      "cell_type": "markdown",
      "metadata": {
        "id": "vvSknUEpGeDS"
      },
      "source": [
        "#### 13. Create a 10x10 array with random values and find the minimum and maximum values (★☆☆)"
      ]
    },
    {
      "cell_type": "code",
      "execution_count": null,
      "metadata": {
        "id": "uTdBuz0GGeDS"
      },
      "outputs": [],
      "source": [
        "random_array = np.random.rand(10, 10)\n",
        "minimum_value = random_array.min()\n",
        "maximum_value = random_array.max()\n"
      ]
    },
    {
      "cell_type": "markdown",
      "metadata": {
        "id": "WdV-TsjuGeDS"
      },
      "source": [
        "#### 14. Create a random vector of size 30 and find the mean value (★☆☆)"
      ]
    },
    {
      "cell_type": "code",
      "execution_count": null,
      "metadata": {
        "id": "yYfz12NaGeDS"
      },
      "outputs": [],
      "source": [
        "random_vector = np.random.rand(30)\n",
        "mean_value = random_vector.mean()\n"
      ]
    },
    {
      "cell_type": "code",
      "execution_count": null,
      "metadata": {
        "id": "MhIqaah9GeDS"
      },
      "outputs": [],
      "source": []
    },
    {
      "cell_type": "markdown",
      "metadata": {
        "id": "FDppRB33GeDS"
      },
      "source": [
        "#### 15. Create a 2d array with 1 on the border and 0 inside (★☆☆)"
      ]
    },
    {
      "cell_type": "code",
      "execution_count": null,
      "metadata": {
        "id": "9JE3e2HKGeDS"
      },
      "outputs": [],
      "source": [
        "x = np.ones((5, 5))\n",
        "\n",
        "x[1:-1, 1:-1] = 0\n",
        "\n",
        "x"
      ]
    }
  ],
  "metadata": {
    "kernelspec": {
      "display_name": "Python 3",
      "language": "python",
      "name": "python3"
    },
    "language_info": {
      "codemirror_mode": {
        "name": "ipython",
        "version": 3
      },
      "file_extension": ".py",
      "mimetype": "text/x-python",
      "name": "python",
      "nbconvert_exporter": "python",
      "pygments_lexer": "ipython3",
      "version": "3.7.4"
    },
    "colab": {
      "provenance": [],
      "include_colab_link": true
    }
  },
  "nbformat": 4,
  "nbformat_minor": 0
}