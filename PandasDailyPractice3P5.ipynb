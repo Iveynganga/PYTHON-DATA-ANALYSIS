{
  "cells": [
    {
      "cell_type": "markdown",
      "metadata": {
        "id": "view-in-github",
        "colab_type": "text"
      },
      "source": [
        "<a href=\"https://colab.research.google.com/github/Iveynganga/PYTHON-DATA-ANALYSIS/blob/main/PandasDailyPractice3P5.ipynb\" target=\"_parent\"><img src=\"https://colab.research.google.com/assets/colab-badge.svg\" alt=\"Open In Colab\"/></a>"
      ]
    },
    {
      "cell_type": "markdown",
      "metadata": {
        "id": "5Q96FKp5bvOV"
      },
      "source": [
        "# Housing Market"
      ]
    },
    {
      "cell_type": "markdown",
      "metadata": {
        "id": "LDK2t1oUbvOZ"
      },
      "source": [
        "### Introduction:\n",
        "\n",
        "This time we will create our own dataset with fictional numbers to describe a house market. As we are going to create random data don't try to reason of the numbers.\n",
        "\n",
        "### Step 1. Import the necessary libraries"
      ]
    },
    {
      "cell_type": "code",
      "execution_count": null,
      "metadata": {
        "id": "sxy8nE4CbvOa"
      },
      "outputs": [],
      "source": [
        "import pandas as pd"
      ]
    },
    {
      "cell_type": "markdown",
      "metadata": {
        "id": "pOEJB76RbvOb"
      },
      "source": [
        "### Step 2. Create 3 differents Series, each of length 100, as follows:\n",
        "1. The first a random number from 1 to 4\n",
        "2. The second a random number from 1 to 3\n",
        "3. The third a random number from 10,000 to 30,000"
      ]
    },
    {
      "cell_type": "code",
      "execution_count": 1,
      "metadata": {
        "id": "DD2kDV3SbvOb"
      },
      "outputs": [],
      "source": [
        "import pandas as pd\n",
        "import numpy as np\n",
        "\n",
        "np.random.seed(0)\n",
        "\n",
        "series1 = pd.Series(np.random.randint(1, 5, size=100))\n",
        "\n",
        "series2 = pd.Series(np.random.randint(1, 4, size=100))\n",
        "\n",
        "series3 = pd.Series(np.random.randint(10000, 30001, size=100))"
      ]
    },
    {
      "cell_type": "markdown",
      "metadata": {
        "id": "-3ZBFATobvOb"
      },
      "source": [
        "### Step 3. Let's create a DataFrame by joinning the Series by column"
      ]
    },
    {
      "cell_type": "code",
      "execution_count": 2,
      "metadata": {
        "id": "rRMSyKTCbvOc"
      },
      "outputs": [],
      "source": [
        "import pandas as pd\n",
        "import numpy as np\n",
        "\n",
        "np.random.seed(0)\n",
        "\n",
        "series1 = pd.Series(np.random.randint(1, 5, size=100))\n",
        "\n",
        "series2 = pd.Series(np.random.randint(1, 4, size=100))\n",
        "\n",
        "series3 = pd.Series(np.random.randint(10000, 30001, size=100))\n",
        "\n",
        "df = pd.concat([series1, series2, series3], axis=1)\n",
        "\n",
        "df.columns = ['random_num_1', 'random_num_2', 'random_num_3']"
      ]
    },
    {
      "cell_type": "markdown",
      "metadata": {
        "id": "cb8U2CcMbvOc"
      },
      "source": [
        "### Step 4. Change the name of the columns to bedrs, bathrs, price_sqr_meter"
      ]
    },
    {
      "cell_type": "code",
      "execution_count": 3,
      "metadata": {
        "id": "wkM3zousbvOc"
      },
      "outputs": [],
      "source": [
        "import pandas as pd\n",
        "import numpy as np\n",
        "\n",
        "np.random.seed(0)\n",
        "\n",
        "bedrs = pd.Series(np.random.randint(1, 5, size=100))\n",
        "\n",
        "bathrs = pd.Series(np.random.randint(1, 4, size=100))\n",
        "\n",
        "price_sqr_meter = pd.Series(np.random.randint(10000, 30001, size=100))\n",
        "\n",
        "df = pd.concat([bedrs, bathrs, price_sqr_meter], axis=1)\n",
        "\n",
        "df.rename(columns={0: 'bedrs', 1: 'bathrs', 2: 'price_sqr_meter'}, inplace=True)"
      ]
    },
    {
      "cell_type": "markdown",
      "metadata": {
        "id": "dp8ZxE2FbvOc"
      },
      "source": [
        "### Step 5. Create a one column DataFrame with the values of the 3 Series and assign it to 'bigcolumn'"
      ]
    },
    {
      "cell_type": "code",
      "execution_count": 4,
      "metadata": {
        "id": "6R7dG7ssbvOc"
      },
      "outputs": [],
      "source": [
        "import pandas as pd\n",
        "import numpy as np\n",
        "\n",
        "np.random.seed(0)\n",
        "\n",
        "bedrs = pd.Series(np.random.randint(1, 5, size=100))\n",
        "\n",
        "bathrs = pd.Series(np.random.randint(1, 4, size=100))\n",
        "\n",
        "price_sqr_meter = pd.Series(np.random.randint(10000, 30001, size=100))\n",
        "\n",
        "bigcolumn = pd.concat([bedrs, bathrs, price_sqr_meter], axis=0)\n",
        "\n",
        "bigcolumn.reset_index(drop=True, inplace=True)\n",
        "\n",
        "bigcolumn.columns = ['bigcolumn']"
      ]
    },
    {
      "cell_type": "markdown",
      "metadata": {
        "id": "ku3KgXACbvOd"
      },
      "source": [
        "### Step 6. Oops, it seems it is going only until index 99. Is it true?"
      ]
    },
    {
      "cell_type": "markdown",
      "source": [
        "Yes, you are correct. Since the original Series have a length of 100, the concatenated DataFrame should have 300 rows (3 Series * 100 rows each).\n"
      ],
      "metadata": {
        "id": "Z6oNM4XHdoJ7"
      }
    },
    {
      "cell_type": "markdown",
      "metadata": {
        "id": "Bu797X2sbvOd"
      },
      "source": [
        "### Step 7. Reindex the DataFrame so it goes from 0 to 299"
      ]
    },
    {
      "cell_type": "code",
      "execution_count": 5,
      "metadata": {
        "id": "UjVKmM21bvOe"
      },
      "outputs": [],
      "source": [
        "bigcolumn.reset_index(drop=True, inplace=True)\n"
      ]
    }
  ],
  "metadata": {
    "kernelspec": {
      "display_name": "Python 2",
      "language": "python",
      "name": "python2"
    },
    "language_info": {
      "codemirror_mode": {
        "name": "ipython",
        "version": 2
      },
      "file_extension": ".py",
      "mimetype": "text/x-python",
      "name": "python",
      "nbconvert_exporter": "python",
      "pygments_lexer": "ipython2",
      "version": "2.7.11"
    },
    "colab": {
      "provenance": [],
      "include_colab_link": true
    }
  },
  "nbformat": 4,
  "nbformat_minor": 0
}