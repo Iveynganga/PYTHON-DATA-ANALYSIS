{
  "cells": [
    {
      "cell_type": "markdown",
      "metadata": {
        "id": "view-in-github",
        "colab_type": "text"
      },
      "source": [
        "<a href=\"https://colab.research.google.com/github/Iveynganga/PYTHON-DATA-ANALYSIS/blob/main/Numpy3.ipynb\" target=\"_parent\"><img src=\"https://colab.research.google.com/assets/colab-badge.svg\" alt=\"Open In Colab\"/></a>"
      ]
    },
    {
      "cell_type": "markdown",
      "metadata": {
        "id": "8PK3I-q2B0Jk"
      },
      "source": [
        "# Numpy Exercise 3\n",
        "\n",
        "### All of the questions in this exercise are attributed to rougier/numpy-100"
      ]
    },
    {
      "cell_type": "code",
      "execution_count": null,
      "metadata": {
        "id": "4seZyE54B0Kh"
      },
      "outputs": [],
      "source": []
    },
    {
      "cell_type": "markdown",
      "metadata": {
        "id": "7c9WFPooB0Kp"
      },
      "source": [
        "#### 31. How to ignore all numpy warnings (not recommended)? (★☆☆)"
      ]
    },
    {
      "cell_type": "code",
      "execution_count": 1,
      "metadata": {
        "colab": {
          "base_uri": "https://localhost:8080/"
        },
        "id": "8HylEADYB0Ky",
        "outputId": "0a58c57d-97d2-4b1f-c17b-66ccb0841402"
      },
      "outputs": [
        {
          "output_type": "stream",
          "name": "stderr",
          "text": [
            "<ipython-input-1-3c99cbc06d03>:4: RuntimeWarning: All-NaN slice encountered\n",
            "  np.nanmedian(data, axis=[1, 2])\n"
          ]
        },
        {
          "output_type": "execute_result",
          "data": {
            "text/plain": [
              "array([nan, nan, nan, nan, nan, nan, nan, nan, nan, nan])"
            ]
          },
          "metadata": {},
          "execution_count": 1
        }
      ],
      "source": [
        "import numpy as np\n",
        "data = np.random.random(1000).reshape(10, 10,10) * np.nan\n",
        "np.seterr(all=\"ignore\")\n",
        "np.nanmedian(data, axis=[1, 2])"
      ]
    },
    {
      "cell_type": "markdown",
      "metadata": {
        "id": "bh-kg6B2B0K2"
      },
      "source": [
        "#### 32. Is the following expressions true? (★☆☆)\n",
        "```python\n",
        "np.sqrt(-1) == np.emath.sqrt(-1)\n",
        "```"
      ]
    },
    {
      "cell_type": "code",
      "execution_count": 2,
      "metadata": {
        "colab": {
          "base_uri": "https://localhost:8080/"
        },
        "id": "3_SV4EjxB0K7",
        "outputId": "98b30df6-e98b-4ca5-c3e0-2d9ceb5f8f45"
      },
      "outputs": [
        {
          "output_type": "stream",
          "name": "stdout",
          "text": [
            "Result using np.sqrt(): nan\n",
            "Result using np.emath.sqrt(): 1j\n",
            "Are the results equal? False\n"
          ]
        }
      ],
      "source": [
        "import numpy as np\n",
        "result1 = np.sqrt(-1)\n",
        "result2 = np.emath.sqrt(-1)\n",
        "\n",
        "print(\"Result using np.sqrt():\", result1)\n",
        "print(\"Result using np.emath.sqrt():\", result2)\n",
        "print(\"Are the results equal?\", result1 == result2)"
      ]
    },
    {
      "cell_type": "markdown",
      "metadata": {
        "id": "U1cQNIYiB0K_"
      },
      "source": [
        "#### 33. How to get the dates of yesterday, today and tomorrow? (★☆☆)"
      ]
    },
    {
      "cell_type": "code",
      "execution_count": 3,
      "metadata": {
        "id": "mmq58-VwB0LH"
      },
      "outputs": [],
      "source": [
        "import numpy as np\n",
        "\n",
        "today = np.datetime64('today', 'D')\n",
        "\n",
        "yesterday = today - np.timedelta64(1, 'D')\n",
        "\n",
        "tomorrow = today + np.timedelta64(1, 'D')"
      ]
    },
    {
      "cell_type": "markdown",
      "metadata": {
        "id": "fTyWdAu8B0LO"
      },
      "source": [
        "#### 34. How to get all the dates corresponding to the month of July 2016? (★★☆)"
      ]
    },
    {
      "cell_type": "code",
      "execution_count": 4,
      "metadata": {
        "id": "pQ1djOuhB0LV"
      },
      "outputs": [],
      "source": [
        "import numpy as np\n",
        "\n",
        "start_date = np.datetime64('2016-07-01')\n",
        "end_date = np.datetime64('2016-08-01')\n",
        "\n",
        "dates_july_2016 = np.arange(start_date, end_date, dtype='datetime64[D]')\n"
      ]
    },
    {
      "cell_type": "markdown",
      "metadata": {
        "id": "ZHyJcz7aB0LY"
      },
      "source": [
        "#### 35. How to compute ((A+B)*(-A/2)) in place (without copy)? (★★☆)"
      ]
    },
    {
      "cell_type": "code",
      "execution_count": 6,
      "metadata": {
        "id": "qEWnI4BrB0Lb"
      },
      "outputs": [],
      "source": [
        "import numpy as np\n",
        "\n",
        "A = np.array([1, 2, 3])\n",
        "B = np.array([4, 5, 6])\n",
        "\n",
        "A += B\n",
        "A *= (-A/2).astype(int)"
      ]
    },
    {
      "cell_type": "markdown",
      "metadata": {
        "id": "heo2dTk-B0Ld"
      },
      "source": [
        "#### 36. Extract the integer part of a random array of positive numbers using 4 different methods (★★☆)"
      ]
    },
    {
      "cell_type": "code",
      "execution_count": 7,
      "metadata": {
        "id": "plonJqqGB0Lg"
      },
      "outputs": [],
      "source": [
        "import numpy as np\n",
        "\n",
        "random_array = np.random.rand(5) * 10\n",
        "\n",
        "integer_part_floor = np.floor(random_array)\n",
        "\n",
        "integer_part_ceil = np.ceil(random_array)\n",
        "\n",
        "integer_part_trunc = np.trunc(random_array)\n",
        "\n",
        "integer_part_cast = random_array.astype(int)"
      ]
    },
    {
      "cell_type": "markdown",
      "metadata": {
        "id": "vkE0HFG8B0Li"
      },
      "source": [
        "#### 37. Create a 5x5 matrix with row values ranging from 0 to 4 (★★☆)"
      ]
    },
    {
      "cell_type": "code",
      "execution_count": 8,
      "metadata": {
        "id": "8cwIc38GB0Lk"
      },
      "outputs": [],
      "source": [
        "import numpy as np\n",
        "\n",
        "row_values = np.arange(5)\n",
        "\n",
        "matrix = row_values.reshape(-1, 1) + np.zeros((5, 5), dtype=int)\n"
      ]
    },
    {
      "cell_type": "markdown",
      "metadata": {
        "id": "6LgqVrhmB0Lm"
      },
      "source": [
        "#### 38. Consider a generator function that generates 10 integers and use it to build an array (★☆☆)"
      ]
    },
    {
      "cell_type": "code",
      "execution_count": 9,
      "metadata": {
        "id": "BX-WF7-hB0Lp"
      },
      "outputs": [],
      "source": [
        "import numpy as np\n",
        "\n",
        "def integer_generator():\n",
        "    for i in range(10):\n",
        "        yield i\n",
        "\n",
        "array_from_generator = np.fromiter(integer_generator(), dtype=int)"
      ]
    },
    {
      "cell_type": "markdown",
      "metadata": {
        "id": "WIOO8HdvB0Lq"
      },
      "source": [
        "#### 39. Create a vector of size 10 with values ranging from 0 to 1, both excluded (★★☆)"
      ]
    },
    {
      "cell_type": "code",
      "execution_count": 10,
      "metadata": {
        "id": "fD1h0W3eB0Lu"
      },
      "outputs": [],
      "source": [
        "import numpy as np\n",
        "\n",
        "vector = np.linspace(0, 1, 12, endpoint=False)[1:-1]"
      ]
    },
    {
      "cell_type": "markdown",
      "metadata": {
        "id": "MDsVKNaTB0Lv"
      },
      "source": [
        "#### 40. Create a random vector of size 10 and sort it (★★☆)"
      ]
    },
    {
      "cell_type": "code",
      "execution_count": 11,
      "metadata": {
        "id": "gwOag9ueB0Lx"
      },
      "outputs": [],
      "source": [
        "import numpy as np\n",
        "\n",
        "random_vector = np.random.rand(10)\n",
        "\n",
        "random_vector.sort()"
      ]
    },
    {
      "cell_type": "markdown",
      "metadata": {
        "id": "lEVrSNoOB0Ly"
      },
      "source": [
        "#### 41. How to sum a small array faster than np.sum? (★★☆)"
      ]
    },
    {
      "cell_type": "code",
      "execution_count": 13,
      "metadata": {
        "id": "i_bMOLBEB0L0"
      },
      "outputs": [],
      "source": [
        "small_array = np.array([1, 2, 3, 4, 5])\n",
        "sum_using_array_method = small_array.sum()"
      ]
    },
    {
      "cell_type": "markdown",
      "metadata": {
        "id": "GAy_6NOBB0L1"
      },
      "source": [
        "#### 42. Consider two random array A and B, check if they are equal (★★☆)"
      ]
    },
    {
      "cell_type": "code",
      "execution_count": 14,
      "metadata": {
        "colab": {
          "base_uri": "https://localhost:8080/"
        },
        "id": "v5dpY74mB0L3",
        "outputId": "59491907-b2fb-4b23-9822-cdb3c363fc45"
      },
      "outputs": [
        {
          "output_type": "stream",
          "name": "stdout",
          "text": [
            "Are arrays A and B equal? False\n"
          ]
        }
      ],
      "source": [
        "import numpy as np\n",
        "\n",
        "A = np.random.rand(5)\n",
        "B = np.random.rand(5)\n",
        "\n",
        "are_equal = np.array_equal(A, B)\n",
        "\n",
        "print(\"Are arrays A and B equal?\", are_equal)"
      ]
    },
    {
      "cell_type": "markdown",
      "metadata": {
        "id": "Fxbj5BHPB0L4"
      },
      "source": [
        "#### 43. Make an array immutable (read-only) (★★☆)"
      ]
    },
    {
      "cell_type": "code",
      "execution_count": 15,
      "metadata": {
        "colab": {
          "base_uri": "https://localhost:8080/"
        },
        "id": "gijpUlTpB0L6",
        "outputId": "d5face61-bfb4-4067-90b0-46960b386cb6"
      },
      "outputs": [
        {
          "output_type": "stream",
          "name": "stdout",
          "text": [
            "Error occurred: assignment destination is read-only\n"
          ]
        }
      ],
      "source": [
        "import numpy as np\n",
        "\n",
        "array = np.array([1, 2, 3, 4, 5])\n",
        "\n",
        "array.setflags(write=False)\n",
        "\n",
        "try:\n",
        "    array[0] = 10\n",
        "except ValueError as e:\n",
        "    print(\"Error occurred:\", e)"
      ]
    },
    {
      "cell_type": "markdown",
      "metadata": {
        "id": "328qaNwDB0L7"
      },
      "source": [
        "#### 44. Consider a random 10x2 matrix representing cartesian coordinates, convert them to polar coordinates (★★☆)"
      ]
    },
    {
      "cell_type": "code",
      "execution_count": 16,
      "metadata": {
        "id": "z2Y6y4ziB0L9"
      },
      "outputs": [],
      "source": [
        "import numpy as np\n",
        "\n",
        "cartesian_coordinates = np.random.rand(10, 2)\n",
        "\n",
        "x = cartesian_coordinates[:, 0]\n",
        "y = cartesian_coordinates[:, 1]\n",
        "\n",
        "radius = np.linalg.norm(cartesian_coordinates, axis=1)\n",
        "\n",
        "angle = np.arctan2(y, x)\n",
        "\n",
        "polar_coordinates = np.column_stack((radius, angle))\n"
      ]
    },
    {
      "cell_type": "markdown",
      "metadata": {
        "id": "ERvZArCtB0L-"
      },
      "source": [
        "#### 45. Create random vector of size 10 and replace the maximum value by 0 (★★☆)"
      ]
    },
    {
      "cell_type": "code",
      "execution_count": 17,
      "metadata": {
        "id": "787VzczqB0MA"
      },
      "outputs": [],
      "source": [
        "import numpy as np\n",
        "\n",
        "random_vector = np.random.rand(10)\n",
        "\n",
        "max_index = np.argmax(random_vector)\n",
        "\n",
        "random_vector[max_index] = 0"
      ]
    }
  ],
  "metadata": {
    "kernelspec": {
      "display_name": "Python 3",
      "language": "python",
      "name": "python3"
    },
    "language_info": {
      "codemirror_mode": {
        "name": "ipython",
        "version": 3
      },
      "file_extension": ".py",
      "mimetype": "text/x-python",
      "name": "python",
      "nbconvert_exporter": "python",
      "pygments_lexer": "ipython3",
      "version": "3.7.4"
    },
    "colab": {
      "provenance": [],
      "include_colab_link": true
    }
  },
  "nbformat": 4,
  "nbformat_minor": 0
}