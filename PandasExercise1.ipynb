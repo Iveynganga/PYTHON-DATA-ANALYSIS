{
  "cells": [
    {
      "cell_type": "markdown",
      "metadata": {
        "id": "view-in-github",
        "colab_type": "text"
      },
      "source": [
        "<a href=\"https://colab.research.google.com/github/Iveynganga/PYTHON-DATA-ANALYSIS/blob/main/PandasExercise1.ipynb\" target=\"_parent\"><img src=\"https://colab.research.google.com/assets/colab-badge.svg\" alt=\"Open In Colab\"/></a>"
      ]
    },
    {
      "cell_type": "markdown",
      "metadata": {
        "id": "iOc-7votNqMA"
      },
      "source": [
        "# Pokemon"
      ]
    },
    {
      "cell_type": "markdown",
      "metadata": {
        "id": "IH6b_T8UNqMF"
      },
      "source": [
        "### Introduction:\n",
        "\n",
        "This time you will create the data.\n",
        "\n",
        "\n",
        "\n",
        "### Step 1. Import the necessary libraries"
      ]
    },
    {
      "cell_type": "code",
      "execution_count": 1,
      "metadata": {
        "id": "WL7OFvj2NqMG"
      },
      "outputs": [],
      "source": [
        "import pandas as pd"
      ]
    },
    {
      "cell_type": "markdown",
      "metadata": {
        "id": "Js97JiA4NqMG"
      },
      "source": [
        "### Step 2. Create a data dictionary that looks like the DataFrame below"
      ]
    },
    {
      "cell_type": "code",
      "execution_count": 2,
      "metadata": {
        "collapsed": true,
        "id": "VlWMWAucNqMH"
      },
      "outputs": [],
      "source": [
        "data = {\n",
        "    'name': ['Bulbasaur', 'Charmander', 'Squirtle', 'Caterpie'],\n",
        "    'hp': [45, 39, 44, 45],\n",
        "    'evolution': ['Ivysaur', 'Charmeleon', 'Wartortle', 'Metapod'],\n",
        "    'pokedex': ['yes', 'no', 'yes', 'no'],\n",
        "    'type': ['grass', 'fire', 'water', 'bug']\n",
        "}\n"
      ]
    },
    {
      "cell_type": "markdown",
      "metadata": {
        "id": "R_FrXXa2NqMH"
      },
      "source": [
        "### Step 3. Assign it to a variable called pokemon"
      ]
    },
    {
      "cell_type": "code",
      "execution_count": 3,
      "metadata": {
        "id": "8rJUSVoANqMH"
      },
      "outputs": [],
      "source": [
        "pokemon = pd.DataFrame(data)"
      ]
    },
    {
      "cell_type": "markdown",
      "metadata": {
        "id": "mbSJjKZmNqMJ"
      },
      "source": [
        "### Step 4. Ops...it seems the DataFrame columns are in alphabetical order. Place  the order of the columns as name, type, hp, evolution, pokedex"
      ]
    },
    {
      "cell_type": "code",
      "source": [
        "import pandas as pd\n",
        "\n",
        "data = {\n",
        "    'name': ['Bulbasaur', 'Charmander', 'Squirtle', 'Caterpie'],\n",
        "    'type': ['grass', 'fire', 'water', 'bug'],\n",
        "    'hp': [45, 39, 44, 45],\n",
        "    'evolution': ['Ivysaur', 'Charmeleon', 'Wartortle', 'Metapod'],\n",
        "    'pokedex': ['yes', 'no', 'yes', 'no']\n",
        "}"
      ],
      "metadata": {
        "id": "EgwuIlnGTLEK"
      },
      "execution_count": 4,
      "outputs": []
    },
    {
      "cell_type": "markdown",
      "metadata": {
        "id": "rX3X44uTNqMJ"
      },
      "source": [
        "### Step 5. Add another column called place, and insert what you have in mind."
      ]
    },
    {
      "cell_type": "code",
      "source": [
        "data = {\n",
        "    'name': ['Bulbasaur', 'Charmander', 'Squirtle', 'Caterpie'],\n",
        "    'type': ['grass', 'fire', 'water', 'bug'],\n",
        "    'hp': [45, 39, 44, 45],\n",
        "    'evolution': ['Ivysaur', 'Charmeleon', 'Wartortle', 'Metapod'],\n",
        "    'pokedex': ['yes', 'no', 'yes', 'no'],\n",
        "    'place': ['forest', 'mountain', 'ocean', 'fields']\n",
        "}"
      ],
      "metadata": {
        "id": "wBxflt1AW92Q"
      },
      "execution_count": 5,
      "outputs": []
    },
    {
      "cell_type": "markdown",
      "metadata": {
        "id": "cb0nQ5dJNqMK"
      },
      "source": [
        "### Step 6. Present the type of each column"
      ]
    },
    {
      "cell_type": "code",
      "execution_count": 6,
      "metadata": {
        "colab": {
          "base_uri": "https://localhost:8080/"
        },
        "id": "mmMu5NEkNqMK",
        "outputId": "95a50bc0-ece0-4e43-db02-36b61b40a88e"
      },
      "outputs": [
        {
          "output_type": "execute_result",
          "data": {
            "text/plain": [
              "name         object\n",
              "hp            int64\n",
              "evolution    object\n",
              "pokedex      object\n",
              "type         object\n",
              "dtype: object"
            ]
          },
          "metadata": {},
          "execution_count": 6
        }
      ],
      "source": [
        "pokemon.dtypes"
      ]
    },
    {
      "cell_type": "markdown",
      "metadata": {
        "id": "D8S_ZNgiNqMK"
      },
      "source": [
        "### BONUS: Create your own question and answer it."
      ]
    },
    {
      "cell_type": "code",
      "execution_count": null,
      "metadata": {
        "collapsed": true,
        "id": "y9Y2Oz_4NqML"
      },
      "outputs": [],
      "source": []
    },
    {
      "cell_type": "markdown",
      "source": [
        "How do you check for missing values in a pandas DataFrame?\n",
        "By using the isnull() method, which returns a DataFrame of boolean values indicating whether each element is missing (True) or not (False). You can then use the sum() method to count the number of missing values in each column.\n"
      ],
      "metadata": {
        "id": "SQLcnMh4Yj4l"
      }
    },
    {
      "cell_type": "code",
      "source": [
        "missing_values = pokemon.isnull().sum()"
      ],
      "metadata": {
        "id": "HQugpizgYyQ9"
      },
      "execution_count": 7,
      "outputs": []
    }
  ],
  "metadata": {
    "kernelspec": {
      "display_name": "Python 2",
      "language": "python",
      "name": "python2"
    },
    "language_info": {
      "codemirror_mode": {
        "name": "ipython",
        "version": 2
      },
      "file_extension": ".py",
      "mimetype": "text/x-python",
      "name": "python",
      "nbconvert_exporter": "python",
      "pygments_lexer": "ipython2",
      "version": "2.7.11"
    },
    "colab": {
      "provenance": [],
      "include_colab_link": true
    }
  },
  "nbformat": 4,
  "nbformat_minor": 0
}